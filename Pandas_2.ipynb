{
  "nbformat": 4,
  "nbformat_minor": 0,
  "metadata": {
    "colab": {
      "provenance": []
    },
    "kernelspec": {
      "name": "python3",
      "display_name": "Python 3"
    },
    "language_info": {
      "name": "python"
    }
  },
  "cells": [
    {
      "cell_type": "code",
      "source": [
        "#if else statements\n",
        "x=88\n",
        "y=88\n",
        "if x > y:\n",
        "  print(\"x is greater than y\")\n",
        "elif x == y:\n",
        "  print(\"x and y both are equal\")\n"
      ],
      "metadata": {
        "colab": {
          "base_uri": "https://localhost:8080/"
        },
        "id": "5u2coss8jqVf",
        "outputId": "da3928ee-6d9b-44b4-f903-220f1e45ad3b"
      },
      "execution_count": null,
      "outputs": [
        {
          "output_type": "stream",
          "name": "stdout",
          "text": [
            "x and y both are equal\n"
          ]
        }
      ]
    },
    {
      "cell_type": "code",
      "source": [],
      "metadata": {
        "id": "iuP0qLOFZ7Hb"
      },
      "execution_count": null,
      "outputs": []
    },
    {
      "cell_type": "code",
      "source": [],
      "metadata": {
        "id": "r40Uy3xXgxNa"
      },
      "execution_count": null,
      "outputs": []
    },
    {
      "cell_type": "markdown",
      "source": [],
      "metadata": {
        "id": "YYQJvA9mXrRq"
      }
    },
    {
      "cell_type": "markdown",
      "source": [],
      "metadata": {
        "id": "JTWrH3qjXrnh"
      }
    },
    {
      "cell_type": "code",
      "source": [],
      "metadata": {
        "id": "iEERrCFiXrzy"
      },
      "execution_count": null,
      "outputs": []
    },
    {
      "cell_type": "code",
      "source": [],
      "metadata": {
        "id": "7ogcjC45lWKJ"
      },
      "execution_count": null,
      "outputs": []
    },
    {
      "cell_type": "markdown",
      "source": [
        "# New Section"
      ],
      "metadata": {
        "id": "tDo_Y__2XnaN"
      }
    },
    {
      "cell_type": "code",
      "source": [
        "x=66\n",
        "y=99\n",
        "z=100\n",
        "\n",
        "if x>y or y<z:\n",
        " print(\" at least one of them are true\")"
      ],
      "metadata": {
        "colab": {
          "base_uri": "https://localhost:8080/"
        },
        "id": "y1uMQJVuj0UX",
        "outputId": "27fc01f8-294d-4b46-d8bd-490fb5aeebb8"
      },
      "execution_count": null,
      "outputs": [
        {
          "output_type": "stream",
          "name": "stdout",
          "text": [
            " at least one of them are true\n"
          ]
        }
      ]
    },
    {
      "cell_type": "code",
      "source": [
        "a=88\n",
        "b=86\n",
        "c=83\n",
        "if a>b and b>c:\n",
        "  print(\"Both condition are true\")"
      ],
      "metadata": {
        "colab": {
          "base_uri": "https://localhost:8080/"
        },
        "id": "o6wxAwHzmCzX",
        "outputId": "fff2c6ad-f407-4ad0-8052-562d500de893"
      },
      "execution_count": null,
      "outputs": [
        {
          "output_type": "stream",
          "name": "stdout",
          "text": [
            "Both condition are true\n"
          ]
        }
      ]
    },
    {
      "cell_type": "code",
      "source": [
        "a=22\n",
        "b=33\n",
        "if a>b:\n",
        "  print(\"a is greater than b\")\n",
        "\n",
        "elif a==b:\n",
        "  print(\"a and b equal\")\n",
        "else:\n",
        "  print(\"b is greater than a\")"
      ],
      "metadata": {
        "colab": {
          "base_uri": "https://localhost:8080/"
        },
        "id": "max1FxKlnT3P",
        "outputId": "cce2cbb8-0cf0-45a2-c881-c391ccc00104"
      },
      "execution_count": null,
      "outputs": [
        {
          "output_type": "stream",
          "name": "stdout",
          "text": [
            "b is greater than a\n"
          ]
        }
      ]
    },
    {
      "cell_type": "code",
      "source": [
        "x=66\n",
        "y=88\n",
        "print(\"y is greater than x\") if x<y else print(\"x\")"
      ],
      "metadata": {
        "colab": {
          "base_uri": "https://localhost:8080/"
        },
        "id": "4mPp8-U4oPt2",
        "outputId": "d71262a3-b706-47ff-95b2-ba4770597ac5"
      },
      "execution_count": null,
      "outputs": [
        {
          "output_type": "stream",
          "name": "stdout",
          "text": [
            "y is greater than x\n"
          ]
        }
      ]
    },
    {
      "cell_type": "code",
      "source": [
        "from ast import Yield\n",
        "x=44\n",
        "y=2\n",
        "z=x/y\n",
        "a=x%y\n",
        "b=x//y\n",
        "c=x-y\n",
        "print(z)\n",
        "print(a)\n",
        "print(b)\n",
        "print(c)"
      ],
      "metadata": {
        "colab": {
          "base_uri": "https://localhost:8080/"
        },
        "id": "9LuEUKibo3h_",
        "outputId": "7aceef5d-0387-45fe-9f7e-139ad762be95"
      },
      "execution_count": null,
      "outputs": [
        {
          "output_type": "stream",
          "name": "stdout",
          "text": [
            "22.0\n",
            "0\n",
            "22\n",
            "42\n"
          ]
        }
      ]
    },
    {
      "cell_type": "code",
      "source": [
        "x=88\n",
        "y=77\n",
        "z=66\n",
        "print(\"x\") if x<y else print(\"=\") if x==y else print(\"z\")"
      ],
      "metadata": {
        "colab": {
          "base_uri": "https://localhost:8080/"
        },
        "id": "YZOJu433phrX",
        "outputId": "dffefce3-3fae-478b-b463-b2c7d88d9b36"
      },
      "execution_count": null,
      "outputs": [
        {
          "output_type": "stream",
          "name": "stdout",
          "text": [
            "z\n"
          ]
        }
      ]
    },
    {
      "cell_type": "code",
      "source": [
        "if x>y:\n",
        "  print(\"x is greater than y\")\n",
        ""
      ],
      "metadata": {
        "colab": {
          "base_uri": "https://localhost:8080/"
        },
        "id": "LjxoKeieqOQt",
        "outputId": "9b2c4fb9-06d1-4e1d-cebd-7465ffeb52f7"
      },
      "execution_count": null,
      "outputs": [
        {
          "output_type": "stream",
          "name": "stdout",
          "text": [
            "x is greater than y\n"
          ]
        }
      ]
    },
    {
      "cell_type": "code",
      "source": [
        "if y>40:\n",
        "  print(\"above 40\")\n",
        "  if y>50:\n",
        "    print(\"also above 50\")\n",
        "  else:\n",
        "    print(\"not above 50\")\n"
      ],
      "metadata": {
        "colab": {
          "base_uri": "https://localhost:8080/"
        },
        "id": "5hL-_e2VrN9u",
        "outputId": "68bae79d-29e2-447e-b0cc-459aa6563f1d"
      },
      "execution_count": null,
      "outputs": [
        {
          "output_type": "stream",
          "name": "stdout",
          "text": [
            "above 40\n",
            "also above 50\n"
          ]
        }
      ]
    },
    {
      "cell_type": "code",
      "source": [
        "if x>z:\n",
        "  pass"
      ],
      "metadata": {
        "id": "CckWDK2st0wX"
      },
      "execution_count": null,
      "outputs": []
    },
    {
      "cell_type": "code",
      "source": [
        "x = 10\n",
        "\n",
        "x ^= 3\n",
        "\n",
        "print(x)\n"
      ],
      "metadata": {
        "colab": {
          "base_uri": "https://localhost:8080/"
        },
        "id": "JB4cjTWduuoW",
        "outputId": "829391f1-0a8e-443e-dac3-e0bf80a32427"
      },
      "execution_count": null,
      "outputs": [
        {
          "output_type": "stream",
          "name": "stdout",
          "text": [
            "9\n"
          ]
        }
      ]
    },
    {
      "cell_type": "code",
      "source": [
        "x = 8\n",
        "\n",
        "x **= 3\n",
        "\n",
        "print(x)\n"
      ],
      "metadata": {
        "colab": {
          "base_uri": "https://localhost:8080/"
        },
        "id": "IOjTLoexvlEW",
        "outputId": "f55b04f1-1c25-4a96-9bea-e9e95a7fd5c6"
      },
      "execution_count": null,
      "outputs": [
        {
          "output_type": "stream",
          "name": "stdout",
          "text": [
            "512\n"
          ]
        }
      ]
    },
    {
      "cell_type": "code",
      "source": [
        "x = 9\n",
        "y=12\n",
        "\n",
        "x//=3\n",
        "y//=4\n",
        "print(x)\n",
        "print(y)\n"
      ],
      "metadata": {
        "colab": {
          "base_uri": "https://localhost:8080/"
        },
        "id": "j0qAcO2gv4SF",
        "outputId": "b2b3e0d2-6c9a-4fa3-c591-5c1a811d895d"
      },
      "execution_count": null,
      "outputs": [
        {
          "output_type": "stream",
          "name": "stdout",
          "text": [
            "3\n",
            "3\n"
          ]
        }
      ]
    },
    {
      "cell_type": "code",
      "source": [
        "a = 10\n",
        "b=4\n",
        "c=12\n",
        "a%=4\n",
        "c&=2\n",
        "b-=2\n",
        "print(b)\n",
        "print(a)\n",
        "print(c)\n"
      ],
      "metadata": {
        "colab": {
          "base_uri": "https://localhost:8080/"
        },
        "id": "4CU4Dxl-wNC1",
        "outputId": "a305c58f-7828-4a9c-c39d-4ed90a03aff5"
      },
      "execution_count": null,
      "outputs": [
        {
          "output_type": "stream",
          "name": "stdout",
          "text": [
            "2\n",
            "2\n",
            "0\n"
          ]
        }
      ]
    },
    {
      "cell_type": "code",
      "source": [
        "#while statment\n",
        "i= 3\n",
        "while i<27:\n",
        "  print(i)\n",
        "  i+=3"
      ],
      "metadata": {
        "colab": {
          "base_uri": "https://localhost:8080/"
        },
        "id": "l_qtSZXtxE5V",
        "outputId": "fae77f71-a1c3-4164-f1ab-2f81c001b879"
      },
      "execution_count": null,
      "outputs": [
        {
          "output_type": "stream",
          "name": "stdout",
          "text": [
            "3\n",
            "6\n",
            "9\n",
            "12\n",
            "15\n",
            "18\n",
            "21\n",
            "24\n"
          ]
        }
      ]
    },
    {
      "cell_type": "code",
      "source": [
        "i=4\n",
        "while i<32:\n",
        "  print(i)\n",
        "  if i==10:\n",
        "    break\n",
        "  i+=2"
      ],
      "metadata": {
        "colab": {
          "base_uri": "https://localhost:8080/"
        },
        "id": "yQCWGETgwrNF",
        "outputId": "f50acc2b-97d5-4564-9f51-3bf6bc639c26"
      },
      "execution_count": null,
      "outputs": [
        {
          "output_type": "stream",
          "name": "stdout",
          "text": [
            "4\n",
            "6\n",
            "8\n",
            "10\n"
          ]
        }
      ]
    },
    {
      "cell_type": "code",
      "source": [
        "i=8\n",
        "while i<40:\n",
        "  i+=8\n",
        "  if i==24:\n",
        "    continue\n",
        "  print(i)\n"
      ],
      "metadata": {
        "colab": {
          "base_uri": "https://localhost:8080/"
        },
        "id": "1IEGGbk-0Zxv",
        "outputId": "021d019a-3b9f-4f91-a918-edb7801e7f2e"
      },
      "execution_count": null,
      "outputs": [
        {
          "output_type": "stream",
          "name": "stdout",
          "text": [
            "16\n",
            "32\n",
            "40\n"
          ]
        }
      ]
    },
    {
      "cell_type": "code",
      "source": [
        "j=10\n",
        "while j<1000:\n",
        "  j+=50\n",
        "  if j==510:\n",
        "    continue\n",
        "  print(j)"
      ],
      "metadata": {
        "colab": {
          "base_uri": "https://localhost:8080/"
        },
        "id": "XSKJ9fD_1ed-",
        "outputId": "190b89c0-09a5-4d6b-e2cb-24249e03ef4c"
      },
      "execution_count": null,
      "outputs": [
        {
          "output_type": "stream",
          "name": "stdout",
          "text": [
            "60\n",
            "110\n",
            "160\n",
            "210\n",
            "260\n",
            "310\n",
            "360\n",
            "410\n",
            "460\n",
            "560\n",
            "610\n",
            "660\n",
            "710\n",
            "760\n",
            "810\n",
            "860\n",
            "910\n",
            "960\n",
            "1010\n"
          ]
        }
      ]
    },
    {
      "cell_type": "code",
      "source": [
        "a = 7\n",
        "while a < 42:\n",
        "  print(a)\n",
        "  a += 7\n",
        "else:\n",
        "  print(\"a is no longer less than 42\")"
      ],
      "metadata": {
        "colab": {
          "base_uri": "https://localhost:8080/"
        },
        "id": "JarwYUHl2JXd",
        "outputId": "99d81771-8a60-4c00-d5dc-a7762dc9034f"
      },
      "execution_count": null,
      "outputs": [
        {
          "output_type": "stream",
          "name": "stdout",
          "text": [
            "7\n",
            "14\n",
            "21\n",
            "28\n",
            "35\n",
            "a is no longer less than 42\n"
          ]
        }
      ]
    },
    {
      "cell_type": "code",
      "source": [
        "course=[\"C\",\"c++\",\"JS\",\"Python\",\"HTML\"]\n",
        "for x in course:\n",
        "  print(x)"
      ],
      "metadata": {
        "colab": {
          "base_uri": "https://localhost:8080/"
        },
        "id": "iLBoV0Ae2e20",
        "outputId": "c6fc80bb-8d6a-4ada-d4e9-a09b89ae9664"
      },
      "execution_count": null,
      "outputs": [
        {
          "output_type": "stream",
          "name": "stdout",
          "text": [
            "C\n",
            "c++\n",
            "JS\n",
            "Python\n",
            "HTML\n"
          ]
        }
      ]
    },
    {
      "cell_type": "code",
      "source": [
        "courses=[\"C\",\"C++\",\"HTML\",\"JS\",\"Python\"]\n",
        "for x in courses:\n",
        "  print(x)\n",
        "  if x == \"C++\":\n",
        "    break\n"
      ],
      "metadata": {
        "colab": {
          "base_uri": "https://localhost:8080/"
        },
        "id": "StbjG3b4a2XK",
        "outputId": "95881151-229e-4a11-9f24-c2c73323db11"
      },
      "execution_count": null,
      "outputs": [
        {
          "output_type": "stream",
          "name": "stdout",
          "text": [
            "C\n",
            "C++\n"
          ]
        }
      ]
    },
    {
      "cell_type": "code",
      "source": [
        "courses=[\"C\",\"C++\",\"HTML\",\"Python\"]\n",
        "\n",
        "for x in courses:\n",
        "  print(x)\n",
        "  if x == \"C++\":\n",
        "    continue\n",
        "\n"
      ],
      "metadata": {
        "colab": {
          "base_uri": "https://localhost:8080/"
        },
        "id": "vTg1uk87bL-Q",
        "outputId": "1f87b9cb-acce-4b70-9878-5e9e2bde9222"
      },
      "execution_count": null,
      "outputs": [
        {
          "output_type": "stream",
          "name": "stdout",
          "text": [
            "C\n",
            "C++\n",
            "HTML\n",
            "Python\n"
          ]
        }
      ]
    },
    {
      "cell_type": "code",
      "source": [
        "fruits = [\"apple\", \"banana\", \"cherry\"]\n",
        "for a in \"cherry\":\n",
        "  print(a)\n",
        "\n"
      ],
      "metadata": {
        "colab": {
          "base_uri": "https://localhost:8080/"
        },
        "id": "BmAT5-ngeG0A",
        "outputId": "b1228dd4-e0df-47c7-e52d-a0439780159e"
      },
      "execution_count": null,
      "outputs": [
        {
          "output_type": "stream",
          "name": "stdout",
          "text": [
            "c\n",
            "h\n",
            "e\n",
            "r\n",
            "r\n",
            "y\n"
          ]
        }
      ]
    },
    {
      "cell_type": "code",
      "source": [
        "for x in range(7):\n",
        "  print(x)"
      ],
      "metadata": {
        "colab": {
          "base_uri": "https://localhost:8080/"
        },
        "id": "10-IJat1efug",
        "outputId": "72719290-4009-4839-f917-91b3ab70bdd3"
      },
      "execution_count": null,
      "outputs": [
        {
          "output_type": "stream",
          "name": "stdout",
          "text": [
            "0\n",
            "1\n",
            "2\n",
            "3\n",
            "4\n",
            "5\n",
            "6\n"
          ]
        }
      ]
    },
    {
      "cell_type": "code",
      "source": [
        "for number in range(2,9):\n",
        "  print(number)"
      ],
      "metadata": {
        "colab": {
          "base_uri": "https://localhost:8080/"
        },
        "id": "NbduA62kemGJ",
        "outputId": "03131b8a-aff2-45e6-e1a1-f72bc35394f3"
      },
      "execution_count": null,
      "outputs": [
        {
          "output_type": "stream",
          "name": "stdout",
          "text": [
            "2\n",
            "3\n",
            "4\n",
            "5\n",
            "6\n",
            "7\n",
            "8\n"
          ]
        }
      ]
    },
    {
      "cell_type": "code",
      "source": [
        "for n in range(2,9,2):\n",
        "  print(n)"
      ],
      "metadata": {
        "colab": {
          "base_uri": "https://localhost:8080/"
        },
        "id": "JGvKyPfwe2Gg",
        "outputId": "08f1f287-2ebd-4865-9997-b6f12dfe519a"
      },
      "execution_count": null,
      "outputs": [
        {
          "output_type": "stream",
          "name": "stdout",
          "text": [
            "2\n",
            "0\n",
            "-2\n",
            "-4\n",
            "-6\n",
            "-8\n"
          ]
        }
      ]
    },
    {
      "cell_type": "code",
      "source": [
        "for n in range(9,-9,-2):\n",
        "  print(n)"
      ],
      "metadata": {
        "colab": {
          "base_uri": "https://localhost:8080/"
        },
        "id": "fe7wvvrEfFuX",
        "outputId": "4db6135c-27b0-4362-e3a3-dba4b24ce23a"
      },
      "execution_count": null,
      "outputs": [
        {
          "output_type": "stream",
          "name": "stdout",
          "text": [
            "9\n",
            "7\n",
            "5\n",
            "3\n",
            "1\n",
            "-1\n",
            "-3\n",
            "-5\n",
            "-7\n"
          ]
        }
      ]
    },
    {
      "cell_type": "code",
      "source": [
        "for value in range(3,9):\n",
        "  if value==6:break\n",
        "  print(value)\n",
        "else:\n",
        "  print(\"Finished\")"
      ],
      "metadata": {
        "colab": {
          "base_uri": "https://localhost:8080/"
        },
        "id": "7OCDt5dIfSvP",
        "outputId": "bcda5063-e7c9-4c0f-c01f-8cb7e86ab2d9"
      },
      "execution_count": null,
      "outputs": [
        {
          "output_type": "stream",
          "name": "stdout",
          "text": [
            "3\n",
            "4\n",
            "5\n"
          ]
        }
      ]
    },
    {
      "cell_type": "code",
      "source": [
        "subjects=[\"Csc\",\"EEE\",\"ICE\",\"SW\",\"NFE\"]\n",
        "value=[\"Good\",\"Importan in Modern life\",\"can be grow with technoloy knowledge\"]\n",
        "\n",
        "for x in subjects:\n",
        "  for y in value:\n",
        "    print(x,y)"
      ],
      "metadata": {
        "colab": {
          "base_uri": "https://localhost:8080/"
        },
        "id": "ouh-iJNnh85x",
        "outputId": "52b7d19d-439a-49d8-cc78-674a09a95369"
      },
      "execution_count": null,
      "outputs": [
        {
          "output_type": "stream",
          "name": "stdout",
          "text": [
            "Csc Good\n",
            "Csc Importan in Modern life\n",
            "Csc can be grow with technoloy knowledge\n",
            "EEE Good\n",
            "EEE Importan in Modern life\n",
            "EEE can be grow with technoloy knowledge\n",
            "ICE Good\n",
            "ICE Importan in Modern life\n",
            "ICE can be grow with technoloy knowledge\n",
            "SW Good\n",
            "SW Importan in Modern life\n",
            "SW can be grow with technoloy knowledge\n",
            "NFE Good\n",
            "NFE Importan in Modern life\n",
            "NFE can be grow with technoloy knowledge\n"
          ]
        }
      ]
    },
    {
      "cell_type": "code",
      "source": [
        "for x in range(6,10,2):\n",
        "  pass"
      ],
      "metadata": {
        "id": "HnsG3gSijiQR"
      },
      "execution_count": null,
      "outputs": []
    }
  ]
}