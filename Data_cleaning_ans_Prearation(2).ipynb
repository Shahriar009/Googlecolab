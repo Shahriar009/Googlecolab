{
  "nbformat": 4,
  "nbformat_minor": 0,
  "metadata": {
    "colab": {
      "provenance": []
    },
    "kernelspec": {
      "name": "python3",
      "display_name": "Python 3"
    },
    "language_info": {
      "name": "python"
    }
  },
  "cells": [
    {
      "cell_type": "code",
      "execution_count": null,
      "metadata": {
        "id": "FrEIjv_IK3Nx"
      },
      "outputs": [],
      "source": [
        "import pandas as pd\n",
        "import numpy as np"
      ]
    },
    {
      "cell_type": "code",
      "source": [],
      "metadata": {
        "id": "vdjmX_9LO3qU"
      },
      "execution_count": null,
      "outputs": []
    },
    {
      "cell_type": "code",
      "source": [
        "#categorical Data"
      ],
      "metadata": {
        "id": "8ADh6h8JLI4e"
      },
      "execution_count": null,
      "outputs": []
    },
    {
      "cell_type": "code",
      "source": [
        "fruits_N=pd.Series([\"Apple\",\"Mango\",\"Orange\",\"Mango\",\"Mango\"]*4)\n",
        "fruits_N\n"
      ],
      "metadata": {
        "colab": {
          "base_uri": "https://localhost:8080/"
        },
        "id": "WoZe9Pa4LqhN",
        "outputId": "18d74279-3bd6-47d7-f093-3e48d15da42a"
      },
      "execution_count": null,
      "outputs": [
        {
          "output_type": "execute_result",
          "data": {
            "text/plain": [
              "0      Apple\n",
              "1      Mango\n",
              "2     Orange\n",
              "3      Mango\n",
              "4      Mango\n",
              "5      Apple\n",
              "6      Mango\n",
              "7     Orange\n",
              "8      Mango\n",
              "9      Mango\n",
              "10     Apple\n",
              "11     Mango\n",
              "12    Orange\n",
              "13     Mango\n",
              "14     Mango\n",
              "15     Apple\n",
              "16     Mango\n",
              "17    Orange\n",
              "18     Mango\n",
              "19     Mango\n",
              "dtype: object"
            ]
          },
          "metadata": {},
          "execution_count": 5
        }
      ]
    },
    {
      "cell_type": "code",
      "source": [
        "pd.unique(fruits_N)"
      ],
      "metadata": {
        "colab": {
          "base_uri": "https://localhost:8080/"
        },
        "id": "h3tWen06POyU",
        "outputId": "dd454db0-0850-48ec-9d51-150221f17686"
      },
      "execution_count": null,
      "outputs": [
        {
          "output_type": "execute_result",
          "data": {
            "text/plain": [
              "array(['Apple', 'Mango', 'Orange'], dtype=object)"
            ]
          },
          "metadata": {},
          "execution_count": 7
        }
      ]
    },
    {
      "cell_type": "code",
      "source": [
        "pd.value_counts(fruits_N)"
      ],
      "metadata": {
        "colab": {
          "base_uri": "https://localhost:8080/"
        },
        "id": "N77sYH0xPakD",
        "outputId": "a3ae0689-3a84-4dae-db30-4bfb247ca243"
      },
      "execution_count": null,
      "outputs": [
        {
          "output_type": "execute_result",
          "data": {
            "text/plain": [
              "Mango     12\n",
              "Apple      4\n",
              "Orange     4\n",
              "dtype: int64"
            ]
          },
          "metadata": {},
          "execution_count": 9
        }
      ]
    },
    {
      "cell_type": "code",
      "source": [
        "numbers_v=pd.Series([0,1,0,0,1,1,1,0,2,2])\n",
        "dim=pd.Series([\"Orange\",\"Mango\",\"Banana\"])"
      ],
      "metadata": {
        "id": "qLFlsW6NPviT"
      },
      "execution_count": null,
      "outputs": []
    },
    {
      "cell_type": "code",
      "source": [],
      "metadata": {
        "id": "KANE4CH5RVTb"
      },
      "execution_count": null,
      "outputs": []
    },
    {
      "cell_type": "code",
      "source": [
        "numbers_v"
      ],
      "metadata": {
        "colab": {
          "base_uri": "https://localhost:8080/"
        },
        "id": "wncW5QYfRLaU",
        "outputId": "9c3b58df-8df2-4efe-9b37-c947f27fb85e"
      },
      "execution_count": null,
      "outputs": [
        {
          "output_type": "execute_result",
          "data": {
            "text/plain": [
              "0    0\n",
              "1    1\n",
              "2    0\n",
              "3    0\n",
              "4    1\n",
              "5    1\n",
              "6    1\n",
              "7    0\n",
              "8    2\n",
              "9    2\n",
              "dtype: int64"
            ]
          },
          "metadata": {},
          "execution_count": 21
        }
      ]
    },
    {
      "cell_type": "code",
      "source": [
        "dim"
      ],
      "metadata": {
        "colab": {
          "base_uri": "https://localhost:8080/"
        },
        "id": "JSG3804iROcU",
        "outputId": "c548e6dc-30b3-4746-ce8e-29a4996525e2"
      },
      "execution_count": null,
      "outputs": [
        {
          "output_type": "execute_result",
          "data": {
            "text/plain": [
              "0    Orange\n",
              "1     Mango\n",
              "2    Banana\n",
              "dtype: object"
            ]
          },
          "metadata": {},
          "execution_count": 17
        }
      ]
    },
    {
      "cell_type": "code",
      "source": [
        "dim.take(numbers_v)"
      ],
      "metadata": {
        "colab": {
          "base_uri": "https://localhost:8080/"
        },
        "id": "gmLlfdlNRWir",
        "outputId": "baeb72d7-f9e8-404c-fb15-67f77fb926ad"
      },
      "execution_count": null,
      "outputs": [
        {
          "output_type": "execute_result",
          "data": {
            "text/plain": [
              "0    Orange\n",
              "1     Mango\n",
              "0    Orange\n",
              "0    Orange\n",
              "1     Mango\n",
              "1     Mango\n",
              "1     Mango\n",
              "0    Orange\n",
              "2    Banana\n",
              "2    Banana\n",
              "dtype: object"
            ]
          },
          "metadata": {},
          "execution_count": 23
        }
      ]
    },
    {
      "cell_type": "code",
      "source": [
        "#Categorical Extension Type in pandas\n"
      ],
      "metadata": {
        "id": "qOoVMga7RdUT"
      },
      "execution_count": null,
      "outputs": []
    },
    {
      "cell_type": "code",
      "source": [
        "fruits=['Orange','Apple','Orange','Orange']*3\n",
        "Number=len(fruits)"
      ],
      "metadata": {
        "id": "Z0rgfXb1RRJs"
      },
      "execution_count": null,
      "outputs": []
    },
    {
      "cell_type": "code",
      "source": [
        "Number"
      ],
      "metadata": {
        "colab": {
          "base_uri": "https://localhost:8080/"
        },
        "id": "8zK-OuXkSVJM",
        "outputId": "4860e79f-517c-4a71-8c1b-2984479ed1d5"
      },
      "execution_count": null,
      "outputs": [
        {
          "output_type": "execute_result",
          "data": {
            "text/plain": [
              "12"
            ]
          },
          "metadata": {},
          "execution_count": 27
        }
      ]
    },
    {
      "cell_type": "code",
      "source": [
        "generator=np.random.default_rng(seed=12345)"
      ],
      "metadata": {
        "id": "uPZc0ykZSZWL"
      },
      "execution_count": null,
      "outputs": []
    },
    {
      "cell_type": "code",
      "source": [
        "generator\n"
      ],
      "metadata": {
        "colab": {
          "base_uri": "https://localhost:8080/"
        },
        "id": "Dl1WzLLUTZOL",
        "outputId": "e904a731-5838-42ca-c96c-ac0103167a29"
      },
      "execution_count": null,
      "outputs": [
        {
          "output_type": "execute_result",
          "data": {
            "text/plain": [
              "Generator(PCG64) at 0x7F21965DEE40"
            ]
          },
          "metadata": {},
          "execution_count": 30
        }
      ]
    },
    {
      "cell_type": "code",
      "source": [
        "dataframe=pd.DataFrame({'fruit':fruits,\n",
        "                        'Basket_id':np.arange(Number),\n",
        "                        'count':generator.integers(3,12,size=Number),\n",
        "                        'weight':generator.uniform(0,4,size=Number)},\n",
        "                        columns=['Basket_id','fruit','count','weight']\n",
        "                       )"
      ],
      "metadata": {
        "id": "S74eolRXTkRb"
      },
      "execution_count": null,
      "outputs": []
    },
    {
      "cell_type": "code",
      "source": [
        "dataframe"
      ],
      "metadata": {
        "colab": {
          "base_uri": "https://localhost:8080/",
          "height": 425
        },
        "id": "nOOUbJB1SXCa",
        "outputId": "8c7bdc71-ef33-4313-d169-7828bb70dcf3"
      },
      "execution_count": null,
      "outputs": [
        {
          "output_type": "execute_result",
          "data": {
            "text/plain": [
              "    Basket_id   fruit  count    weight\n",
              "0           0  Orange      9  2.393235\n",
              "1           1   Apple      5  0.746937\n",
              "2           2  Orange     10  2.691024\n",
              "3           3  Orange      5  3.767211\n",
              "4           4  Orange      4  0.992983\n",
              "5           5   Apple     10  3.795525\n",
              "6           6  Orange      8  2.668950\n",
              "7           7  Orange      9  0.383592\n",
              "8           8  Orange     11  1.767359\n",
              "9           9   Apple      6  3.545920\n",
              "10         10  Orange     10  2.789814\n",
              "11         11  Orange      5  1.305891"
            ],
            "text/html": [
              "\n",
              "  <div id=\"df-a77fa5b5-242a-41b6-8e48-579865759c42\">\n",
              "    <div class=\"colab-df-container\">\n",
              "      <div>\n",
              "<style scoped>\n",
              "    .dataframe tbody tr th:only-of-type {\n",
              "        vertical-align: middle;\n",
              "    }\n",
              "\n",
              "    .dataframe tbody tr th {\n",
              "        vertical-align: top;\n",
              "    }\n",
              "\n",
              "    .dataframe thead th {\n",
              "        text-align: right;\n",
              "    }\n",
              "</style>\n",
              "<table border=\"1\" class=\"dataframe\">\n",
              "  <thead>\n",
              "    <tr style=\"text-align: right;\">\n",
              "      <th></th>\n",
              "      <th>Basket_id</th>\n",
              "      <th>fruit</th>\n",
              "      <th>count</th>\n",
              "      <th>weight</th>\n",
              "    </tr>\n",
              "  </thead>\n",
              "  <tbody>\n",
              "    <tr>\n",
              "      <th>0</th>\n",
              "      <td>0</td>\n",
              "      <td>Orange</td>\n",
              "      <td>9</td>\n",
              "      <td>2.393235</td>\n",
              "    </tr>\n",
              "    <tr>\n",
              "      <th>1</th>\n",
              "      <td>1</td>\n",
              "      <td>Apple</td>\n",
              "      <td>5</td>\n",
              "      <td>0.746937</td>\n",
              "    </tr>\n",
              "    <tr>\n",
              "      <th>2</th>\n",
              "      <td>2</td>\n",
              "      <td>Orange</td>\n",
              "      <td>10</td>\n",
              "      <td>2.691024</td>\n",
              "    </tr>\n",
              "    <tr>\n",
              "      <th>3</th>\n",
              "      <td>3</td>\n",
              "      <td>Orange</td>\n",
              "      <td>5</td>\n",
              "      <td>3.767211</td>\n",
              "    </tr>\n",
              "    <tr>\n",
              "      <th>4</th>\n",
              "      <td>4</td>\n",
              "      <td>Orange</td>\n",
              "      <td>4</td>\n",
              "      <td>0.992983</td>\n",
              "    </tr>\n",
              "    <tr>\n",
              "      <th>5</th>\n",
              "      <td>5</td>\n",
              "      <td>Apple</td>\n",
              "      <td>10</td>\n",
              "      <td>3.795525</td>\n",
              "    </tr>\n",
              "    <tr>\n",
              "      <th>6</th>\n",
              "      <td>6</td>\n",
              "      <td>Orange</td>\n",
              "      <td>8</td>\n",
              "      <td>2.668950</td>\n",
              "    </tr>\n",
              "    <tr>\n",
              "      <th>7</th>\n",
              "      <td>7</td>\n",
              "      <td>Orange</td>\n",
              "      <td>9</td>\n",
              "      <td>0.383592</td>\n",
              "    </tr>\n",
              "    <tr>\n",
              "      <th>8</th>\n",
              "      <td>8</td>\n",
              "      <td>Orange</td>\n",
              "      <td>11</td>\n",
              "      <td>1.767359</td>\n",
              "    </tr>\n",
              "    <tr>\n",
              "      <th>9</th>\n",
              "      <td>9</td>\n",
              "      <td>Apple</td>\n",
              "      <td>6</td>\n",
              "      <td>3.545920</td>\n",
              "    </tr>\n",
              "    <tr>\n",
              "      <th>10</th>\n",
              "      <td>10</td>\n",
              "      <td>Orange</td>\n",
              "      <td>10</td>\n",
              "      <td>2.789814</td>\n",
              "    </tr>\n",
              "    <tr>\n",
              "      <th>11</th>\n",
              "      <td>11</td>\n",
              "      <td>Orange</td>\n",
              "      <td>5</td>\n",
              "      <td>1.305891</td>\n",
              "    </tr>\n",
              "  </tbody>\n",
              "</table>\n",
              "</div>\n",
              "      <button class=\"colab-df-convert\" onclick=\"convertToInteractive('df-a77fa5b5-242a-41b6-8e48-579865759c42')\"\n",
              "              title=\"Convert this dataframe to an interactive table.\"\n",
              "              style=\"display:none;\">\n",
              "        \n",
              "  <svg xmlns=\"http://www.w3.org/2000/svg\" height=\"24px\"viewBox=\"0 0 24 24\"\n",
              "       width=\"24px\">\n",
              "    <path d=\"M0 0h24v24H0V0z\" fill=\"none\"/>\n",
              "    <path d=\"M18.56 5.44l.94 2.06.94-2.06 2.06-.94-2.06-.94-.94-2.06-.94 2.06-2.06.94zm-11 1L8.5 8.5l.94-2.06 2.06-.94-2.06-.94L8.5 2.5l-.94 2.06-2.06.94zm10 10l.94 2.06.94-2.06 2.06-.94-2.06-.94-.94-2.06-.94 2.06-2.06.94z\"/><path d=\"M17.41 7.96l-1.37-1.37c-.4-.4-.92-.59-1.43-.59-.52 0-1.04.2-1.43.59L10.3 9.45l-7.72 7.72c-.78.78-.78 2.05 0 2.83L4 21.41c.39.39.9.59 1.41.59.51 0 1.02-.2 1.41-.59l7.78-7.78 2.81-2.81c.8-.78.8-2.07 0-2.86zM5.41 20L4 18.59l7.72-7.72 1.47 1.35L5.41 20z\"/>\n",
              "  </svg>\n",
              "      </button>\n",
              "      \n",
              "  <style>\n",
              "    .colab-df-container {\n",
              "      display:flex;\n",
              "      flex-wrap:wrap;\n",
              "      gap: 12px;\n",
              "    }\n",
              "\n",
              "    .colab-df-convert {\n",
              "      background-color: #E8F0FE;\n",
              "      border: none;\n",
              "      border-radius: 50%;\n",
              "      cursor: pointer;\n",
              "      display: none;\n",
              "      fill: #1967D2;\n",
              "      height: 32px;\n",
              "      padding: 0 0 0 0;\n",
              "      width: 32px;\n",
              "    }\n",
              "\n",
              "    .colab-df-convert:hover {\n",
              "      background-color: #E2EBFA;\n",
              "      box-shadow: 0px 1px 2px rgba(60, 64, 67, 0.3), 0px 1px 3px 1px rgba(60, 64, 67, 0.15);\n",
              "      fill: #174EA6;\n",
              "    }\n",
              "\n",
              "    [theme=dark] .colab-df-convert {\n",
              "      background-color: #3B4455;\n",
              "      fill: #D2E3FC;\n",
              "    }\n",
              "\n",
              "    [theme=dark] .colab-df-convert:hover {\n",
              "      background-color: #434B5C;\n",
              "      box-shadow: 0px 1px 3px 1px rgba(0, 0, 0, 0.15);\n",
              "      filter: drop-shadow(0px 1px 2px rgba(0, 0, 0, 0.3));\n",
              "      fill: #FFFFFF;\n",
              "    }\n",
              "  </style>\n",
              "\n",
              "      <script>\n",
              "        const buttonEl =\n",
              "          document.querySelector('#df-a77fa5b5-242a-41b6-8e48-579865759c42 button.colab-df-convert');\n",
              "        buttonEl.style.display =\n",
              "          google.colab.kernel.accessAllowed ? 'block' : 'none';\n",
              "\n",
              "        async function convertToInteractive(key) {\n",
              "          const element = document.querySelector('#df-a77fa5b5-242a-41b6-8e48-579865759c42');\n",
              "          const dataTable =\n",
              "            await google.colab.kernel.invokeFunction('convertToInteractive',\n",
              "                                                     [key], {});\n",
              "          if (!dataTable) return;\n",
              "\n",
              "          const docLinkHtml = 'Like what you see? Visit the ' +\n",
              "            '<a target=\"_blank\" href=https://colab.research.google.com/notebooks/data_table.ipynb>data table notebook</a>'\n",
              "            + ' to learn more about interactive tables.';\n",
              "          element.innerHTML = '';\n",
              "          dataTable['output_type'] = 'display_data';\n",
              "          await google.colab.output.renderOutput(dataTable, element);\n",
              "          const docLink = document.createElement('div');\n",
              "          docLink.innerHTML = docLinkHtml;\n",
              "          element.appendChild(docLink);\n",
              "        }\n",
              "      </script>\n",
              "    </div>\n",
              "  </div>\n",
              "  "
            ]
          },
          "metadata": {},
          "execution_count": 39
        }
      ]
    },
    {
      "cell_type": "code",
      "source": [
        "dataframe['weight'].dtypes\n"
      ],
      "metadata": {
        "colab": {
          "base_uri": "https://localhost:8080/"
        },
        "id": "IO1qHdEZT0Zz",
        "outputId": "330b4c82-64a7-4f19-a33c-3051ac9fbdcc"
      },
      "execution_count": null,
      "outputs": [
        {
          "output_type": "execute_result",
          "data": {
            "text/plain": [
              "dtype('float64')"
            ]
          },
          "metadata": {},
          "execution_count": 44
        }
      ]
    },
    {
      "cell_type": "code",
      "source": [
        "dataframe['fruit'].dtypes"
      ],
      "metadata": {
        "colab": {
          "base_uri": "https://localhost:8080/"
        },
        "id": "8nNWxyledloi",
        "outputId": "2cb52cde-56b7-4da2-d890-1785aa857db8"
      },
      "execution_count": null,
      "outputs": [
        {
          "output_type": "execute_result",
          "data": {
            "text/plain": [
              "dtype('O')"
            ]
          },
          "metadata": {},
          "execution_count": 47
        }
      ]
    },
    {
      "cell_type": "code",
      "source": [
        "fruit_cat=dataframe['fruit'].astype('category')\n",
        "fruit_cat\n"
      ],
      "metadata": {
        "colab": {
          "base_uri": "https://localhost:8080/"
        },
        "id": "NfiSQaB-duy5",
        "outputId": "fae5ea6b-f5b9-414b-9919-38be90c5875c"
      },
      "execution_count": null,
      "outputs": [
        {
          "output_type": "execute_result",
          "data": {
            "text/plain": [
              "0     Orange\n",
              "1      Apple\n",
              "2     Orange\n",
              "3     Orange\n",
              "4     Orange\n",
              "5      Apple\n",
              "6     Orange\n",
              "7     Orange\n",
              "8     Orange\n",
              "9      Apple\n",
              "10    Orange\n",
              "11    Orange\n",
              "Name: fruit, dtype: category\n",
              "Categories (2, object): ['Apple', 'Orange']"
            ]
          },
          "metadata": {},
          "execution_count": 48
        }
      ]
    },
    {
      "cell_type": "code",
      "source": [
        "c=fruit_cat.array\n",
        "type(c)"
      ],
      "metadata": {
        "colab": {
          "base_uri": "https://localhost:8080/"
        },
        "id": "ZF4lw188dpiA",
        "outputId": "b95669f5-6865-4ebc-a50c-1b0e4196595a"
      },
      "execution_count": null,
      "outputs": [
        {
          "output_type": "execute_result",
          "data": {
            "text/plain": [
              "pandas.core.arrays.categorical.Categorical"
            ]
          },
          "metadata": {},
          "execution_count": 49
        }
      ]
    },
    {
      "cell_type": "code",
      "source": [
        "c.categories"
      ],
      "metadata": {
        "colab": {
          "base_uri": "https://localhost:8080/"
        },
        "id": "XV3Ldi4iebN4",
        "outputId": "ed979b6e-8045-4b7a-ebe7-bb81b3ef6919"
      },
      "execution_count": null,
      "outputs": [
        {
          "output_type": "execute_result",
          "data": {
            "text/plain": [
              "Index(['Apple', 'Orange'], dtype='object')"
            ]
          },
          "metadata": {},
          "execution_count": 50
        }
      ]
    },
    {
      "cell_type": "code",
      "source": [
        "dict(enumerate(c.categories))"
      ],
      "metadata": {
        "colab": {
          "base_uri": "https://localhost:8080/"
        },
        "id": "ARq-o8JdetiY",
        "outputId": "29b03c50-07b5-462f-9326-3abe007a1935"
      },
      "execution_count": null,
      "outputs": [
        {
          "output_type": "execute_result",
          "data": {
            "text/plain": [
              "{0: 'Apple', 1: 'Orange'}"
            ]
          },
          "metadata": {},
          "execution_count": 52
        }
      ]
    },
    {
      "cell_type": "code",
      "source": [
        "dataframe['fruit']=dataframe['fruit'].astype('category')\n",
        "dataframe['fruit']"
      ],
      "metadata": {
        "colab": {
          "base_uri": "https://localhost:8080/"
        },
        "id": "oXvhreLie1UC",
        "outputId": "d4da03a6-9f2e-472a-c351-911d12e8b9fe"
      },
      "execution_count": null,
      "outputs": [
        {
          "output_type": "execute_result",
          "data": {
            "text/plain": [
              "0     Orange\n",
              "1      Apple\n",
              "2     Orange\n",
              "3     Orange\n",
              "4     Orange\n",
              "5      Apple\n",
              "6     Orange\n",
              "7     Orange\n",
              "8     Orange\n",
              "9      Apple\n",
              "10    Orange\n",
              "11    Orange\n",
              "Name: fruit, dtype: category\n",
              "Categories (2, object): ['Apple', 'Orange']"
            ]
          },
          "metadata": {},
          "execution_count": 53
        }
      ]
    },
    {
      "cell_type": "code",
      "source": [
        "my_categories=pd.Categorical(['RR','tt','yy','bb','tt'])"
      ],
      "metadata": {
        "id": "z4SwXHK_fyPq"
      },
      "execution_count": null,
      "outputs": []
    },
    {
      "cell_type": "code",
      "source": [
        "my_categories\n"
      ],
      "metadata": {
        "colab": {
          "base_uri": "https://localhost:8080/"
        },
        "id": "MuC163FqgYRa",
        "outputId": "9ea66984-f56d-4cf5-c3e3-ee6083eca65c"
      },
      "execution_count": null,
      "outputs": [
        {
          "output_type": "execute_result",
          "data": {
            "text/plain": [
              "['RR', 'tt', 'yy', 'bb', 'tt']\n",
              "Categories (4, object): ['RR', 'bb', 'tt', 'yy']"
            ]
          },
          "metadata": {},
          "execution_count": 55
        }
      ]
    },
    {
      "cell_type": "code",
      "source": [
        "categories=['RR','tt','yy']\n",
        "codes=[0,1,2,1,1]"
      ],
      "metadata": {
        "id": "CTJP-Jtmgd8J"
      },
      "execution_count": null,
      "outputs": []
    },
    {
      "cell_type": "code",
      "source": [
        "my_categories2=pd.Categorical.from_codes(codes,categories)\n",
        "my_categories2"
      ],
      "metadata": {
        "colab": {
          "base_uri": "https://localhost:8080/"
        },
        "id": "mpp567AuiR_J",
        "outputId": "c6cf9c36-c7a0-4211-e498-29a7475592ff"
      },
      "execution_count": null,
      "outputs": [
        {
          "output_type": "execute_result",
          "data": {
            "text/plain": [
              "['RR', 'tt', 'yy', 'tt', 'tt']\n",
              "Categories (3, object): ['RR', 'tt', 'yy']"
            ]
          },
          "metadata": {},
          "execution_count": 57
        }
      ]
    },
    {
      "cell_type": "code",
      "source": [
        "ordered_cat=pd.Categorical.from_codes(codes,categories,ordered=True)\n",
        "ordered_cat"
      ],
      "metadata": {
        "colab": {
          "base_uri": "https://localhost:8080/"
        },
        "id": "lDh43pmTi9nR",
        "outputId": "a928b874-2d73-481a-d82f-5f3bd1b1c4ed"
      },
      "execution_count": null,
      "outputs": [
        {
          "output_type": "execute_result",
          "data": {
            "text/plain": [
              "['RR', 'tt', 'yy', 'tt', 'tt']\n",
              "Categories (3, object): ['RR' < 'tt' < 'yy']"
            ]
          },
          "metadata": {},
          "execution_count": 58
        }
      ]
    },
    {
      "cell_type": "code",
      "source": [
        "#Computations with Categoricals"
      ],
      "metadata": {
        "id": "5TJizkTajunZ"
      },
      "execution_count": null,
      "outputs": []
    },
    {
      "cell_type": "code",
      "source": [
        "rng=np.random.default_rng(seed=12345)\n",
        "draws=rng.standard_normal(1000)"
      ],
      "metadata": {
        "id": "mJTHH3E-lXgg"
      },
      "execution_count": null,
      "outputs": []
    },
    {
      "cell_type": "code",
      "source": [
        "draws"
      ],
      "metadata": {
        "colab": {
          "base_uri": "https://localhost:8080/"
        },
        "id": "lRLamMPYlrCo",
        "outputId": "ffcd8035-9310-4af4-bdfa-34a63946e621"
      },
      "execution_count": null,
      "outputs": [
        {
          "output_type": "execute_result",
          "data": {
            "text/plain": [
              "array([-1.42382504e+00,  1.26372846e+00, -8.70661738e-01, -2.59173235e-01,\n",
              "       -7.53433070e-02, -7.40884652e-01, -1.36779270e+00,  6.48892802e-01,\n",
              "        3.61058113e-01, -1.95286306e+00,  2.34740965e+00,  9.68496906e-01,\n",
              "       -7.59387180e-01,  9.02198274e-01, -4.66953173e-01, -6.06895187e-02,\n",
              "        7.88844345e-01, -1.25666813e+00,  5.75857514e-01,  1.39897899e+00,\n",
              "        1.32229806e+00, -2.99698515e-01,  9.02919341e-01, -1.62158273e+00,\n",
              "       -1.58189261e-01,  4.49483932e-01, -1.34360107e+00, -8.16875907e-02,\n",
              "        1.72473993e+00,  2.61815943e+00,  7.77361344e-01,  8.28633196e-01,\n",
              "       -9.58988313e-01, -1.20938829e+00, -1.41229201e+00,  5.41546830e-01,\n",
              "        7.51939396e-01, -6.58760320e-01, -1.22867499e+00,  2.57557768e-01,\n",
              "        3.12902918e-01, -1.30811690e-01,  1.26998312e+00, -9.29624577e-02,\n",
              "       -6.61508890e-02, -1.10821447e+00,  1.35956851e-01,  1.34707776e+00,\n",
              "        6.11440210e-02,  7.09146003e-02,  4.33654537e-01,  2.77483660e-01,\n",
              "        5.30252387e-01,  5.36720969e-01,  6.18350015e-01, -7.95017456e-01,\n",
              "        3.00030946e-01, -1.60270159e+00,  2.66798830e-01, -1.26162378e+00,\n",
              "       -7.12708062e-02,  4.74049730e-01, -4.14853761e-01,  9.77165000e-02,\n",
              "       -1.64041784e+00, -8.57258824e-01,  6.88281788e-01, -1.15452958e+00,\n",
              "        6.50452389e-01, -1.38835995e+00, -9.07382457e-01, -1.09542531e+00,\n",
              "        7.14569494e-03,  5.34359903e-01, -1.06580785e+00, -1.81472740e-01,\n",
              "        1.62195180e+00, -3.17391946e-01, -8.15814967e-01,  3.86579017e-01,\n",
              "       -2.23638926e-01, -7.01690809e-01, -1.79571318e+00,  8.18325622e-01,\n",
              "       -5.71032902e-01,  7.85525063e-04, -1.06364272e+00,  1.30171450e+00,\n",
              "        7.47872942e-01,  9.80875909e-01, -1.10418688e-01,  4.67918531e-01,\n",
              "        8.90607150e-01,  1.02300937e+00,  3.12383389e-01, -6.19046857e-02,\n",
              "       -3.59479647e-01, -7.48643984e-01, -9.65478907e-01,  3.60034657e-01,\n",
              "       -2.44552532e-01, -1.99585661e+00, -1.55247617e-01,  1.06383087e+00,\n",
              "       -2.75171567e-01, -1.85333593e+00, -1.24341928e-01,  7.84974522e-01,\n",
              "        2.01998597e-01, -4.28074443e-01,  1.84828890e+00,  1.89995289e+00,\n",
              "       -9.84250348e-02,  8.13445440e-01,  3.92494389e-01,  7.81442900e-01,\n",
              "        1.45327152e+00,  8.20186045e-01,  8.77053446e-02, -6.53505648e-01,\n",
              "       -8.11886879e-01, -2.55381724e-02,  1.15818454e+00,  3.00520870e-01,\n",
              "        5.30566461e-02,  2.57271524e-01,  3.57428624e-02,  5.47236686e-01,\n",
              "       -1.12296158e+00, -1.97524767e+00, -4.25150050e-01, -1.14907382e+00,\n",
              "        1.61513805e+00, -1.58476860e-01, -2.52873345e-01, -1.53815403e+00,\n",
              "        2.82086033e-01, -6.23612134e-01,  1.12182226e+00,  8.41221031e-01,\n",
              "       -7.75896101e-01,  4.10716440e-01, -2.72241610e+00, -6.73304799e-01,\n",
              "        1.24622153e+00,  7.90208028e-01,  1.75340888e-01, -2.92946016e-02,\n",
              "       -1.41951426e+00, -1.35996632e+00,  2.23411559e-01,  1.76177943e+00,\n",
              "       -2.17088985e+00,  6.28488171e-01,  6.01196526e-01,  9.50757858e-01,\n",
              "       -8.69246667e-01, -5.29007071e-01,  4.56840956e-02, -1.02755181e+00,\n",
              "       -1.22928930e+00, -8.83358472e-01, -7.08934637e-02,  3.74053351e-01,\n",
              "       -2.45937384e-02,  7.72606583e-02, -6.83913218e-01, -7.20837668e-01,\n",
              "        1.12062282e+00, -5.48141603e-02, -8.24137242e-02,  9.35986501e-01,\n",
              "        1.23853712e+00,  1.27279553e+00,  4.05892218e-01, -5.03252214e-02,\n",
              "        2.89317539e-01,  1.79305677e-01,  1.39748056e+00,  2.92046792e-01,\n",
              "        6.38405674e-01, -2.78877131e-02,  1.37105185e+00, -2.05280763e+00,\n",
              "        3.80509078e-01,  7.55390669e-01, -1.15912585e+00,  2.15031011e+00,\n",
              "       -1.50270219e-01, -1.61164280e-01, -1.07944248e+00,  8.77966184e-01,\n",
              "        2.24467414e-01, -5.91593454e-01,  2.26262802e-01,  6.86182507e-01,\n",
              "        1.21500461e+00,  2.16059441e-01, -9.64823557e-01, -5.56607805e-01,\n",
              "       -2.29838764e+00, -7.32082126e-01,  7.36469100e-01,  4.65716719e-01,\n",
              "       -1.07876049e-01, -3.41436294e-01,  1.58453379e+00,  2.82241206e-01,\n",
              "        9.09546391e-01,  3.95071566e-01, -6.69376519e-01,  1.55536898e+00,\n",
              "       -1.23813903e+00, -1.19617346e+00, -4.29149506e-01, -7.29659893e-01,\n",
              "       -5.57468899e-01, -5.99953064e-01,  9.86827204e-01,  5.41946751e-02,\n",
              "        3.51907443e-01, -1.58796951e+00, -8.46951349e-01,  1.08457026e+00,\n",
              "       -1.20382665e+00,  1.17853089e+00, -1.03066585e+00,  2.99218328e-01,\n",
              "       -8.46239971e-01,  1.96620300e-01, -8.99637825e-01, -2.56605429e-01,\n",
              "        1.67254777e+00, -3.75269646e-01,  2.03679478e+00, -4.58793398e-01,\n",
              "       -1.17576966e+00,  7.50524988e-02, -4.08990215e-01,  1.75653198e+00,\n",
              "        8.60923069e-01,  1.18127398e+00,  6.31670171e-01,  2.47099711e+00,\n",
              "        7.94302517e-01,  5.31352878e-01, -8.29398597e-01, -9.09303834e-01,\n",
              "        1.84235934e-01,  9.97738175e-01,  1.11695904e+00, -9.44000541e-01,\n",
              "        5.31406704e-01,  1.93345997e-01, -1.11826358e+00,  5.11845582e-01,\n",
              "       -2.27056629e+00,  2.63163546e-01,  2.47131349e+00, -1.01988520e+00,\n",
              "        1.87526150e-02, -1.89426422e+00, -7.55001656e-01,  7.56197740e-01,\n",
              "       -1.04246201e+00, -3.42581430e-02, -3.55168299e-01, -3.78428368e-01,\n",
              "        1.90648688e-01,  4.84396294e-01,  1.23026775e+00,  8.32970623e-01,\n",
              "       -5.64941752e-01,  1.41469601e+00,  1.24828122e+00, -1.55894810e+00,\n",
              "        6.65232592e-01,  8.25595172e-01,  9.66318833e-01,  5.47175299e-01,\n",
              "       -1.29718326e+00, -2.67634333e-01, -2.07020656e+00, -1.57892554e-01,\n",
              "        2.02894262e+00,  6.81570885e-01,  8.36203582e-01, -5.13488047e-01,\n",
              "       -1.01573661e+00, -1.07027090e+00,  1.23912658e-01, -8.03015882e-01,\n",
              "       -6.37635747e-01,  1.14449564e+00, -1.64090191e+00, -1.31400358e+00,\n",
              "       -5.10352510e-01, -9.98608839e-02, -1.29506764e-01, -1.39670506e+00,\n",
              "        1.93809351e-01, -1.29292728e-01,  3.54479094e-01, -1.08287264e+00,\n",
              "        2.44939235e-01,  2.20820791e-01, -6.60432484e-01, -2.18535151e-01,\n",
              "       -5.55999012e-01,  1.35638101e+00, -3.11960863e+00, -1.44767170e+00,\n",
              "       -1.70578539e+00, -3.78119923e-01, -6.78493916e-01, -4.11245934e-01,\n",
              "        7.19012644e-01, -1.63251948e+00, -8.45693631e-01, -2.23100058e-01,\n",
              "       -1.20221832e+00,  3.69987683e-01,  3.29997358e-01, -7.10446611e-01,\n",
              "       -1.77110716e+00,  1.60083585e+00,  4.71098065e-01,  4.23750625e-01,\n",
              "        7.22604814e-02, -7.34696662e-03,  8.31075673e-01, -1.56055249e-02,\n",
              "       -6.30906338e-01,  7.09501385e-01,  5.96951708e-02, -7.72475747e-01,\n",
              "       -9.06239094e-01,  1.16547928e+00,  6.31047402e-01,  1.97551858e+00,\n",
              "       -5.26655196e-01, -7.43540587e-01,  4.03890571e-01,  1.37940685e+00,\n",
              "        5.96752401e-01,  4.33153072e-01,  1.88698807e+00, -7.43390939e-01,\n",
              "       -1.24794902e+00, -7.44618316e-01, -3.16856989e-01,  3.73351314e-01,\n",
              "        1.02196035e+00,  4.05609723e-01,  1.52331375e+00, -8.27508128e-01,\n",
              "        1.90549546e+00, -8.12021693e-01,  1.17073624e+00, -9.37842967e-01,\n",
              "        3.43267007e-01,  5.08984102e-02,  5.17559645e-01,  7.51424764e-01,\n",
              "       -2.13199171e-01, -6.68236776e-02,  2.39111718e-01, -1.30500814e+00,\n",
              "       -7.31236440e-01, -1.62440684e+00,  5.25050962e-03,  2.22215696e+00,\n",
              "        7.41309224e-01, -8.65429707e-01, -7.07684696e-01,  9.75898764e-01,\n",
              "       -4.74409383e-01, -1.60848203e+00, -1.02291555e+00, -1.05425642e+00,\n",
              "       -1.02139871e+00,  6.75950820e-01,  7.07028719e-02, -1.48863945e+00,\n",
              "       -5.39796993e-01, -1.13832102e+00, -1.20842052e+00, -1.50667492e+00,\n",
              "        1.74716204e+00, -3.07329521e-01,  5.76230584e-01,  8.68743678e-01,\n",
              "       -3.84271666e-01,  5.34919539e-01,  5.40615879e-01,  2.22456521e-01,\n",
              "        2.16953213e+00,  2.83928102e-01, -2.28490514e-01,  6.46164480e-01,\n",
              "        1.77796354e+00,  9.94308000e-01, -4.78299892e-01, -8.58764574e-01,\n",
              "       -9.30850286e-01, -6.61899356e-01,  3.86500903e-01,  8.45988292e-01,\n",
              "       -2.26994787e+00, -1.86681654e-02, -1.10501888e+00,  6.82899732e-01,\n",
              "        9.14518493e-01, -7.78352115e-01, -4.49423204e-01, -9.51618630e-01,\n",
              "        3.91078535e-01, -1.60996181e+00, -1.12557525e+00, -6.84623837e-01,\n",
              "        1.22651896e+00,  2.40247280e+00,  1.99584190e-02, -1.23157125e+00,\n",
              "        7.41864685e-02, -8.69049593e-01,  4.59819568e-01, -1.11370451e+00,\n",
              "       -3.69487350e-01, -1.41055279e-02,  5.19943798e-01, -7.68884933e-02,\n",
              "        1.26588858e+00,  1.24232762e-01, -1.81381491e+00,  9.24059031e-01,\n",
              "       -2.91113406e-01, -6.69762242e-01,  1.50768468e+00, -9.93606188e-01,\n",
              "        7.26674371e-02, -7.12974484e-01,  1.35242893e+00, -3.64017286e-01,\n",
              "        2.35699478e-01, -1.39228465e+00,  1.43473399e+00, -1.06952042e+00,\n",
              "        9.10459323e-01,  1.11370559e+00,  1.23231538e+00,  1.81411281e+00,\n",
              "       -1.17073802e+00,  4.01982178e-01,  1.37969649e-01,  4.19915493e-01,\n",
              "        1.09831954e+00,  1.09361768e-01, -8.16919212e-01, -9.72529682e-02,\n",
              "        1.53923643e+00, -1.17898747e+00,  7.96842462e-02, -9.81300666e-01,\n",
              "        1.10877941e+00, -1.64844862e+00, -3.41086469e-01, -1.24194966e-01,\n",
              "        1.16915739e-01,  2.36121870e+00,  1.55516878e+00, -1.02985940e+00,\n",
              "        2.15940445e+00, -1.19253343e+00, -1.87089050e+00, -1.49848205e+00,\n",
              "        2.03450471e-01,  5.34860586e-01, -2.21108587e+00,  4.35974191e-01,\n",
              "       -2.67052169e-01,  7.06389532e-01, -3.84606815e-01,  9.00081711e-01,\n",
              "        5.64345130e-01, -1.17264499e+00,  1.44559200e+00,  2.12427128e-01,\n",
              "        7.30048821e-01,  1.26177194e+00, -9.74758332e-01, -8.47372106e-02,\n",
              "       -8.21697969e-01, -9.42372732e-01,  2.65979546e-01,  3.39791108e-01,\n",
              "        1.33140349e+00,  1.38554064e+00, -2.13583034e-02, -8.37064726e-01,\n",
              "        3.20068942e+00,  2.14788244e+00, -1.06664772e-01, -9.30154944e-01,\n",
              "       -4.23674369e-01,  2.80961046e-01,  1.13155122e+00,  9.69383232e-01,\n",
              "        4.35415205e-01, -2.47125731e-01,  1.68185205e-01, -3.10624535e-01,\n",
              "        7.09335975e-02, -1.03372303e-01,  5.25325277e-01, -1.88267705e+00,\n",
              "       -3.45678008e-01, -2.91309198e-01, -1.13063834e+00, -1.72724675e-01,\n",
              "       -1.05354233e+00, -6.64553142e-01, -2.89681998e-01, -2.53171766e-01,\n",
              "       -5.73783158e-01,  1.10347462e+00,  2.01165087e-01,  3.22351424e-01,\n",
              "        2.33092758e-01, -6.68065235e-01, -8.83219013e-01,  8.39639691e-01,\n",
              "       -3.53077897e-01, -1.77113747e+00, -2.19878710e+00,  2.21760184e-01,\n",
              "       -7.37077207e-01, -6.75838533e-02, -5.47254160e-01, -4.07414631e-01,\n",
              "       -1.72737620e-01, -1.24740736e+00, -1.87624193e-02,  9.86123587e-01,\n",
              "        6.95674273e-01, -1.73962463e+00, -1.34163608e+00, -1.33282638e+00,\n",
              "       -2.48068818e-01,  8.54834793e-01,  3.22984340e-01, -1.75364283e+00,\n",
              "        5.48855340e-02,  8.07411591e-01, -4.49013978e-01,  1.90417969e+00,\n",
              "       -6.51468305e-01,  1.17248231e+00,  2.35122688e+00, -1.27642360e+00,\n",
              "       -3.23686621e-01,  5.74696204e-01,  3.21141765e+00, -1.78846554e+00,\n",
              "        5.66050226e-01,  2.84796348e-01, -4.22376126e-01, -8.34852439e-01,\n",
              "       -5.25916185e-01, -3.03053674e-01, -1.26985950e+00,  1.57548510e+00,\n",
              "       -1.10845010e+00, -4.27519357e-01, -6.61481082e-01, -4.13253934e-01,\n",
              "        9.29779267e-02, -7.57597067e-01, -2.36129912e-01,  1.72446043e+00,\n",
              "        1.05620035e+00, -2.88028999e-01,  9.07177602e-01, -7.68494068e-01,\n",
              "        2.25931240e-01, -1.42854248e+00, -1.14411867e+00, -8.66556389e-01,\n",
              "        1.23753573e+00,  2.30691366e-01,  5.47763034e-01,  1.51652927e-01,\n",
              "        3.66900043e-01,  4.19478919e-01,  7.65321189e-01,  1.61256679e-01,\n",
              "       -9.16034823e-01, -7.90918993e-01,  1.21417311e+00,  1.41180344e+00,\n",
              "        5.59364429e-01, -1.64489871e+00,  1.57517058e+00,  3.22935600e-01,\n",
              "       -7.45220037e-02,  1.96548842e-02, -3.72683645e-01,  1.75834442e+00,\n",
              "        1.68263067e+00, -1.06481789e+00, -1.89796109e-01,  3.03403443e-01,\n",
              "        1.27573152e+00, -2.42960165e+00,  9.30610015e-01,  1.66783860e+00,\n",
              "       -3.34090032e-01, -5.15106149e-02,  1.24325830e+00,  3.67036430e-01,\n",
              "       -1.34618662e+00, -1.18188225e+00, -1.04500481e+00, -1.43236727e+00,\n",
              "       -2.00886227e-02, -5.34166690e-01,  2.68754533e-02,  6.92732323e-01,\n",
              "        1.77458224e+00,  2.02141113e-01, -1.88084695e+00,  1.37878553e+00,\n",
              "       -1.33647093e-01,  1.15171173e+00, -4.66425062e-01,  2.88564390e-01,\n",
              "       -1.51156922e-01, -4.21025412e-02,  1.26211915e+00, -6.72702969e-01,\n",
              "        1.47547470e-01,  2.03816429e-01, -4.06218846e-01, -2.22197231e+00,\n",
              "        3.31811656e-01, -2.86054756e+00, -1.52344944e+00, -4.77970317e-01,\n",
              "        4.12657231e-01,  8.46392900e-01,  8.12101895e-01,  5.80603328e-01,\n",
              "       -3.81073120e-01,  1.20099431e+00, -2.83772779e-01,  1.10710475e+00,\n",
              "       -2.25610096e+00, -9.71854993e-01, -5.92905332e-01, -1.80984888e-02,\n",
              "       -2.41274891e+00,  7.99226280e-01,  9.76130692e-01,  7.73092119e-01,\n",
              "       -5.33216690e-01,  1.44149015e+00, -5.63981533e-01,  8.93470827e-01,\n",
              "       -7.42512680e-02, -3.46069864e-02, -1.70816032e-01, -3.65517036e-02,\n",
              "        1.09806562e+00,  1.42629484e+00,  1.41467983e+00,  8.94438213e-01,\n",
              "        6.53670700e-01,  4.37152200e-01,  1.74635813e+00, -4.57095959e-01,\n",
              "       -6.49308823e-01,  3.29631178e-02, -1.68504146e+00, -2.52598256e-01,\n",
              "       -7.40313034e-02, -1.04422943e+00, -5.92776806e-01,  6.80170674e-01,\n",
              "       -2.45973193e-01,  6.05624791e-02,  1.01972358e+00, -6.30050546e-01,\n",
              "       -1.16037758e+00, -5.68747898e-02,  4.09270722e-01, -1.82967470e+00,\n",
              "        6.41954142e-01, -3.29663996e-01, -4.29324018e-01, -8.76878553e-01,\n",
              "       -1.99605506e-01,  9.50270920e-01,  5.13872750e-01,  7.97806039e-01,\n",
              "       -3.78129354e-01,  1.58223187e+00,  1.26565747e+00, -2.97258104e-02,\n",
              "       -2.63975939e+00,  5.11408937e-02,  2.74776943e+00, -6.41340596e-02,\n",
              "       -1.03022593e+00,  1.69910136e+00, -6.23692147e-01,  4.87480901e-01,\n",
              "        7.59003689e-01, -1.47967223e+00,  1.21195076e-01,  1.18862963e+00,\n",
              "       -3.33439437e-01,  6.49091238e-01, -2.68320151e-02,  1.02504738e+00,\n",
              "        1.84822504e+00, -1.10302841e+00, -2.90388788e-01,  3.91568101e-01,\n",
              "       -6.35179488e-01, -8.30046051e-01, -3.49766369e-01, -2.73043102e-01,\n",
              "       -6.57943966e-01,  3.26871488e-01,  8.06477506e-01,  7.45273260e-01,\n",
              "        6.79356544e-01,  1.19250597e+00, -1.36682791e+00, -1.16610196e-01,\n",
              "        1.89020240e-01,  5.25771351e-01, -1.61611005e+00,  1.88072206e+00,\n",
              "       -8.90609769e-01,  2.64065068e-01,  7.37306312e-01,  1.08683733e+00,\n",
              "       -6.86425763e-01, -5.41809934e-01,  3.71199796e-01,  5.87459116e-01,\n",
              "        9.12199847e-01, -5.58262834e-02, -6.93849578e-01, -1.33469428e+00,\n",
              "        1.74643808e+00, -1.37337178e+00,  7.01209730e-01,  2.80065839e-01,\n",
              "        7.64387370e-01,  9.56512535e-01,  1.35260228e+00, -5.57675673e-02,\n",
              "        4.00128333e-01, -1.95141827e+00,  4.87654583e-02, -9.04456538e-01,\n",
              "       -1.50266126e-01,  1.24142710e+00,  1.10711736e-01,  1.09518667e+00,\n",
              "       -1.96699537e-01,  4.04457880e-01, -4.08996512e-01, -2.54134859e+00,\n",
              "       -7.09034551e-01, -2.61584450e-01,  1.62631878e-01,  8.00948081e-03,\n",
              "       -1.20706299e-01,  9.54237782e-01,  6.31583051e-01, -3.91507141e-01,\n",
              "        8.78542722e-01, -1.97955644e+00, -2.75772309e-01, -1.40276139e-01,\n",
              "        1.31070480e+00, -5.28500651e-01, -1.46383938e+00,  1.85654973e-01,\n",
              "        1.70252885e+00, -1.99544374e-01, -8.88567225e-02, -1.94608586e-01,\n",
              "        6.27299579e-02,  1.31431080e+00,  1.97533222e+00,  4.83255311e-01,\n",
              "       -9.18163044e-02,  1.86629965e+00,  1.12426883e-01,  7.96155755e-02,\n",
              "       -3.43781159e-01, -3.01186339e-01,  2.55405106e-01, -2.72675415e-01,\n",
              "        4.33152856e-01,  1.07167979e-01,  5.71301488e-01, -3.65811143e-01,\n",
              "       -1.84096983e-01,  2.59634677e-01,  8.44739669e-02,  1.16225041e-01,\n",
              "        1.18618327e+00, -1.05588866e+00, -1.92531911e+00,  7.41063995e-01,\n",
              "       -2.25619867e-01,  1.36557115e+00, -6.91680767e-02, -1.15299609e+00,\n",
              "        2.20967326e+00,  4.16474443e-01, -4.36370065e-01, -7.36003886e-01,\n",
              "        5.77436642e-01, -6.61492763e-01,  4.04745377e-01,  1.17892344e+00,\n",
              "       -1.37460854e+00, -3.42269285e-01,  4.93190798e-01,  1.67419420e+00,\n",
              "        9.43233691e-01, -4.41555599e-01,  1.47481586e+00, -3.45749659e-01,\n",
              "       -1.50040126e-01,  3.89896938e-01, -1.08308193e+00,  3.08547984e+00,\n",
              "        1.20884340e+00,  2.30186339e-01, -5.57802141e-01, -1.14851471e+00,\n",
              "        3.81971017e-01,  7.04365602e-01, -3.88899963e-01, -1.85506898e-01,\n",
              "        5.66330561e-01, -5.14316746e-02, -1.84623690e+00,  6.74638603e-01,\n",
              "        2.52036725e-01,  7.38055640e-01, -7.47455035e-01, -2.11733639e+00,\n",
              "       -1.24066567e+00,  3.05211001e-01,  2.08559027e+00,  2.35953985e+00,\n",
              "        3.09501519e-01, -1.45127282e+00, -3.30059784e-01,  4.52826884e-01,\n",
              "        4.42335688e-01,  1.00453644e-01,  1.34452292e+00, -8.93585852e-01,\n",
              "       -2.16067912e+00, -8.72209569e-01, -1.15675951e+00,  2.23833940e+00,\n",
              "       -1.81078344e-01, -1.42330841e+00,  6.21797411e-01,  1.01150219e+00,\n",
              "        5.80898468e-02,  1.97413065e-01,  1.02838433e+00,  5.19340217e-01,\n",
              "       -6.95040014e-01,  5.93706415e-01,  9.33222659e-01,  3.46441675e-01,\n",
              "        8.77310301e-01,  5.88943854e-01, -2.32237743e-01, -1.42786369e-01,\n",
              "        6.17561542e-01, -5.49857188e-01,  1.15527732e+00,  1.22211314e+00,\n",
              "       -2.02892326e+00, -6.67985788e-02, -7.47957405e-01, -6.31399197e-01,\n",
              "        1.47630647e-01, -1.66716028e-01,  5.67283300e-01,  3.23970679e-01,\n",
              "        3.72784476e-01, -7.80923775e-01, -3.46318386e-01,  1.46062736e+00,\n",
              "       -2.47755133e+00,  1.71945608e+00, -5.59273509e-01,  1.18097398e+00,\n",
              "       -2.59346818e+00, -4.17242207e-01,  8.49845257e-01,  1.51235852e-01,\n",
              "        1.01700015e+00, -8.73684243e-01, -5.58382387e-01, -6.52810234e-01,\n",
              "        5.08683548e-01,  4.63572064e-01, -1.21482075e-01, -2.62915619e-01,\n",
              "       -2.90783934e-01,  8.81631845e-02, -9.47190487e-01, -5.57949240e-02,\n",
              "       -1.42628014e-01, -5.38803680e-01, -5.68810617e-01,  1.47837068e+00,\n",
              "       -6.13257840e-01,  4.13189600e-01,  1.36901951e+00,  7.41449461e-01,\n",
              "        2.12223314e-02,  1.01479931e+00, -1.42454369e+00, -1.22979084e+00,\n",
              "       -3.95445015e-01, -2.19221836e-01, -9.46068703e-02,  1.88075025e+00,\n",
              "        1.68899606e+00, -3.71186734e-02,  2.56070265e-01, -9.06325704e-01,\n",
              "        3.19810330e-01, -1.34149193e+00,  1.40031595e+00, -5.18227724e-01,\n",
              "        5.58352650e-01, -1.30547512e+00,  1.39204144e+00,  6.12108552e-01,\n",
              "        1.96032218e+00,  6.88082154e-02, -1.61927444e+00, -7.83655538e-01,\n",
              "       -1.25498393e+00,  1.57890107e+00, -6.24035140e-01, -7.52088547e-01,\n",
              "        5.96104190e-01,  2.66923552e-01,  4.93312599e-01, -5.01478344e-01,\n",
              "       -1.99770485e+00, -1.35874699e+00, -2.19554107e+00,  1.28115129e+00,\n",
              "        9.10711662e-01, -3.73667225e-01,  6.24494021e-01,  6.74017103e-01,\n",
              "        6.37016040e-01,  5.32955071e-01,  8.84989640e-01,  8.31998074e-02,\n",
              "       -2.21975447e+00, -2.76714798e+00,  1.26613253e+00,  5.98509237e-01,\n",
              "       -2.51309108e+00,  1.75597388e-01, -8.77888581e-01, -5.47070340e-01,\n",
              "       -2.60357335e+00,  7.73042027e-01, -8.33765144e-02,  8.18447261e-01,\n",
              "        1.09093020e+00,  1.29142947e+00,  1.65147111e+00,  2.93889928e-01,\n",
              "        2.19100411e-01, -6.37850133e-01,  5.30894232e-01, -2.37211561e-01])"
            ]
          },
          "metadata": {},
          "execution_count": 61
        }
      ]
    },
    {
      "cell_type": "code",
      "source": [
        "draws[:3\n",
        "      ]"
      ],
      "metadata": {
        "colab": {
          "base_uri": "https://localhost:8080/"
        },
        "id": "uwA8HM2xls4h",
        "outputId": "65291bd1-f07f-4f6a-81af-e5c19f08dbcd"
      },
      "execution_count": null,
      "outputs": [
        {
          "output_type": "execute_result",
          "data": {
            "text/plain": [
              "array([-1.42382504,  1.26372846, -0.87066174])"
            ]
          },
          "metadata": {},
          "execution_count": 62
        }
      ]
    },
    {
      "cell_type": "code",
      "source": [
        "bins=pd.qcut(draws,5)"
      ],
      "metadata": {
        "id": "sZWPo6sPlzhx"
      },
      "execution_count": null,
      "outputs": []
    },
    {
      "cell_type": "code",
      "source": [
        "bins"
      ],
      "metadata": {
        "colab": {
          "base_uri": "https://localhost:8080/"
        },
        "id": "FQOTz9bWl4y5",
        "outputId": "888a051e-b962-4ecc-8df2-f3237d61764a"
      },
      "execution_count": null,
      "outputs": [
        {
          "output_type": "execute_result",
          "data": {
            "text/plain": [
              "[(-3.121, -0.849], (0.847, 3.211], (-3.121, -0.849], (-0.849, -0.224], (-0.224, 0.28], ..., (0.28, 0.847], (-0.224, 0.28], (-0.849, -0.224], (0.28, 0.847], (-0.849, -0.224]]\n",
              "Length: 1000\n",
              "Categories (5, interval[float64, right]): [(-3.121, -0.849] < (-0.849, -0.224] < (-0.224, 0.28] <\n",
              "                                           (0.28, 0.847] < (0.847, 3.211]]"
            ]
          },
          "metadata": {},
          "execution_count": 64
        }
      ]
    },
    {
      "cell_type": "code",
      "source": [
        "bins=pd.qcut(draws,2)"
      ],
      "metadata": {
        "id": "nUu712D1l6QI"
      },
      "execution_count": null,
      "outputs": []
    },
    {
      "cell_type": "code",
      "source": [
        "bins"
      ],
      "metadata": {
        "colab": {
          "base_uri": "https://localhost:8080/"
        },
        "id": "_f6pY4F9mQkQ",
        "outputId": "a77092f4-e11c-46c5-9aa2-54bcd3fdb23c"
      },
      "execution_count": null,
      "outputs": [
        {
          "output_type": "execute_result",
          "data": {
            "text/plain": [
              "[(-3.121, 0.0134], (0.0134, 3.211], (-3.121, 0.0134], (-3.121, 0.0134], (-3.121, 0.0134], ..., (0.0134, 3.211], (0.0134, 3.211], (-3.121, 0.0134], (0.0134, 3.211], (-3.121, 0.0134]]\n",
              "Length: 1000\n",
              "Categories (2, interval[float64, right]): [(-3.121, 0.0134] < (0.0134, 3.211]]"
            ]
          },
          "metadata": {},
          "execution_count": 66
        }
      ]
    },
    {
      "cell_type": "code",
      "source": [
        "bins=pd.qcut(draws,4)"
      ],
      "metadata": {
        "id": "dUxAv0iSmSXX"
      },
      "execution_count": null,
      "outputs": []
    },
    {
      "cell_type": "code",
      "source": [
        "bins"
      ],
      "metadata": {
        "colab": {
          "base_uri": "https://localhost:8080/"
        },
        "id": "Onm5FJWRmrNJ",
        "outputId": "cea74140-9b62-4f40-f01c-c2ebce5cf0cb"
      },
      "execution_count": null,
      "outputs": [
        {
          "output_type": "execute_result",
          "data": {
            "text/plain": [
              "[(-3.121, -0.675], (0.687, 3.211], (-3.121, -0.675], (-0.675, 0.0134], (-0.675, 0.0134], ..., (0.0134, 0.687], (0.0134, 0.687], (-0.675, 0.0134], (0.0134, 0.687], (-0.675, 0.0134]]\n",
              "Length: 1000\n",
              "Categories (4, interval[float64, right]): [(-3.121, -0.675] < (-0.675, 0.0134] < (0.0134, 0.687] <\n",
              "                                           (0.687, 3.211]]"
            ]
          },
          "metadata": {},
          "execution_count": 68
        }
      ]
    },
    {
      "cell_type": "code",
      "source": [
        "bins=pd.qcut(draws,5,labels=[\"a1\",\"a2\",\"a3\",\"a4\",\"a5\"])\n",
        "bins"
      ],
      "metadata": {
        "colab": {
          "base_uri": "https://localhost:8080/"
        },
        "id": "3PrL-kYSmsPQ",
        "outputId": "dd4d30d5-bc1b-489b-e128-e03957990138"
      },
      "execution_count": null,
      "outputs": [
        {
          "output_type": "execute_result",
          "data": {
            "text/plain": [
              "['a1', 'a5', 'a1', 'a2', 'a3', ..., 'a4', 'a3', 'a2', 'a4', 'a2']\n",
              "Length: 1000\n",
              "Categories (5, object): ['a1' < 'a2' < 'a3' < 'a4' < 'a5']"
            ]
          },
          "metadata": {},
          "execution_count": 69
        }
      ]
    },
    {
      "cell_type": "code",
      "source": [
        "bins.codes[:5]"
      ],
      "metadata": {
        "colab": {
          "base_uri": "https://localhost:8080/"
        },
        "id": "TFtffpqAm9jI",
        "outputId": "f384269e-27d2-4f70-d013-1a7151f9e0ba"
      },
      "execution_count": null,
      "outputs": [
        {
          "output_type": "execute_result",
          "data": {
            "text/plain": [
              "array([0, 4, 0, 1, 2], dtype=int8)"
            ]
          },
          "metadata": {},
          "execution_count": 70
        }
      ]
    },
    {
      "cell_type": "code",
      "source": [
        "bins.codes[:300]"
      ],
      "metadata": {
        "colab": {
          "base_uri": "https://localhost:8080/"
        },
        "id": "t5n1DqnMnzPw",
        "outputId": "46097769-8c3d-4bc2-a115-683875ac2271"
      },
      "execution_count": null,
      "outputs": [
        {
          "output_type": "execute_result",
          "data": {
            "text/plain": [
              "array([0, 4, 0, 1, 2, 1, 0, 3, 3, 0, 4, 4, 1, 4, 1, 2, 3, 0, 3, 4, 4, 1,\n",
              "       4, 0, 2, 3, 0, 2, 4, 4, 3, 3, 0, 0, 0, 3, 3, 1, 0, 2, 3, 2, 4, 2,\n",
              "       2, 0, 2, 4, 2, 2, 3, 2, 3, 3, 3, 1, 3, 0, 2, 0, 2, 3, 1, 2, 0, 0,\n",
              "       3, 0, 3, 0, 0, 0, 2, 3, 0, 2, 4, 1, 1, 3, 2, 1, 0, 3, 1, 2, 0, 4,\n",
              "       3, 4, 2, 3, 4, 4, 3, 2, 1, 1, 0, 3, 1, 0, 2, 4, 1, 0, 2, 3, 2, 1,\n",
              "       4, 4, 2, 3, 3, 3, 4, 3, 2, 1, 1, 2, 4, 3, 2, 2, 2, 3, 0, 0, 1, 0,\n",
              "       4, 2, 1, 0, 3, 1, 4, 3, 1, 3, 0, 1, 4, 3, 2, 2, 0, 0, 2, 4, 0, 3,\n",
              "       3, 4, 0, 1, 2, 0, 0, 0, 2, 3, 2, 2, 1, 1, 4, 2, 2, 4, 4, 4, 3, 2,\n",
              "       3, 2, 4, 3, 3, 2, 4, 0, 3, 3, 0, 4, 2, 2, 0, 4, 2, 1, 2, 3, 4, 2,\n",
              "       0, 1, 0, 1, 3, 3, 2, 1, 4, 3, 4, 3, 1, 4, 0, 0, 1, 1, 1, 1, 4, 2,\n",
              "       3, 0, 1, 4, 0, 4, 0, 3, 1, 2, 0, 1, 4, 1, 4, 1, 0, 2, 1, 4, 4, 4,\n",
              "       3, 4, 3, 3, 1, 0, 2, 4, 4, 0, 3, 2, 0, 3, 0, 2, 4, 0, 2, 0, 1, 3,\n",
              "       0, 2, 1, 1, 2, 3, 4, 3, 1, 4, 4, 0, 3, 3, 4, 3, 0, 1, 0, 2, 4, 3,\n",
              "       3, 1, 0, 0, 2, 1, 1, 4, 0, 0, 1, 2, 2, 0], dtype=int8)"
            ]
          },
          "metadata": {},
          "execution_count": 71
        }
      ]
    },
    {
      "cell_type": "code",
      "source": [
        "bins=pd.Series(bins,name='quartile')\n",
        "bins"
      ],
      "metadata": {
        "colab": {
          "base_uri": "https://localhost:8080/"
        },
        "id": "RwjlfUE-n3tw",
        "outputId": "a3bbcc9d-1e06-4223-cb8b-2163adfbe99a"
      },
      "execution_count": null,
      "outputs": [
        {
          "output_type": "execute_result",
          "data": {
            "text/plain": [
              "0      a1\n",
              "1      a5\n",
              "2      a1\n",
              "3      a2\n",
              "4      a3\n",
              "       ..\n",
              "995    a4\n",
              "996    a3\n",
              "997    a2\n",
              "998    a4\n",
              "999    a2\n",
              "Name: quartile, Length: 1000, dtype: category\n",
              "Categories (5, object): ['a1' < 'a2' < 'a3' < 'a4' < 'a5']"
            ]
          },
          "metadata": {},
          "execution_count": 72
        }
      ]
    },
    {
      "cell_type": "code",
      "source": [
        "result=(pd.Series(draws)\n",
        ".groupby(bins)\n",
        ".agg(['count','min','max'])\n",
        ".reset_index())\n",
        "result"
      ],
      "metadata": {
        "colab": {
          "base_uri": "https://localhost:8080/",
          "height": 206
        },
        "id": "7VdXUAXuoRAw",
        "outputId": "529512f1-798a-44b9-edad-1fce74a92b1a"
      },
      "execution_count": null,
      "outputs": [
        {
          "output_type": "execute_result",
          "data": {
            "text/plain": [
              "  quartile  count       min       max\n",
              "0       a1    200 -3.119609 -0.857259\n",
              "1       a2    200 -0.846951 -0.225620\n",
              "2       a3    200 -0.223639  0.280066\n",
              "3       a4    200  0.280961  0.846393\n",
              "4       a5    200  0.849845  3.211418"
            ],
            "text/html": [
              "\n",
              "  <div id=\"df-13908641-e555-4d4e-84a0-242b871a7efa\">\n",
              "    <div class=\"colab-df-container\">\n",
              "      <div>\n",
              "<style scoped>\n",
              "    .dataframe tbody tr th:only-of-type {\n",
              "        vertical-align: middle;\n",
              "    }\n",
              "\n",
              "    .dataframe tbody tr th {\n",
              "        vertical-align: top;\n",
              "    }\n",
              "\n",
              "    .dataframe thead th {\n",
              "        text-align: right;\n",
              "    }\n",
              "</style>\n",
              "<table border=\"1\" class=\"dataframe\">\n",
              "  <thead>\n",
              "    <tr style=\"text-align: right;\">\n",
              "      <th></th>\n",
              "      <th>quartile</th>\n",
              "      <th>count</th>\n",
              "      <th>min</th>\n",
              "      <th>max</th>\n",
              "    </tr>\n",
              "  </thead>\n",
              "  <tbody>\n",
              "    <tr>\n",
              "      <th>0</th>\n",
              "      <td>a1</td>\n",
              "      <td>200</td>\n",
              "      <td>-3.119609</td>\n",
              "      <td>-0.857259</td>\n",
              "    </tr>\n",
              "    <tr>\n",
              "      <th>1</th>\n",
              "      <td>a2</td>\n",
              "      <td>200</td>\n",
              "      <td>-0.846951</td>\n",
              "      <td>-0.225620</td>\n",
              "    </tr>\n",
              "    <tr>\n",
              "      <th>2</th>\n",
              "      <td>a3</td>\n",
              "      <td>200</td>\n",
              "      <td>-0.223639</td>\n",
              "      <td>0.280066</td>\n",
              "    </tr>\n",
              "    <tr>\n",
              "      <th>3</th>\n",
              "      <td>a4</td>\n",
              "      <td>200</td>\n",
              "      <td>0.280961</td>\n",
              "      <td>0.846393</td>\n",
              "    </tr>\n",
              "    <tr>\n",
              "      <th>4</th>\n",
              "      <td>a5</td>\n",
              "      <td>200</td>\n",
              "      <td>0.849845</td>\n",
              "      <td>3.211418</td>\n",
              "    </tr>\n",
              "  </tbody>\n",
              "</table>\n",
              "</div>\n",
              "      <button class=\"colab-df-convert\" onclick=\"convertToInteractive('df-13908641-e555-4d4e-84a0-242b871a7efa')\"\n",
              "              title=\"Convert this dataframe to an interactive table.\"\n",
              "              style=\"display:none;\">\n",
              "        \n",
              "  <svg xmlns=\"http://www.w3.org/2000/svg\" height=\"24px\"viewBox=\"0 0 24 24\"\n",
              "       width=\"24px\">\n",
              "    <path d=\"M0 0h24v24H0V0z\" fill=\"none\"/>\n",
              "    <path d=\"M18.56 5.44l.94 2.06.94-2.06 2.06-.94-2.06-.94-.94-2.06-.94 2.06-2.06.94zm-11 1L8.5 8.5l.94-2.06 2.06-.94-2.06-.94L8.5 2.5l-.94 2.06-2.06.94zm10 10l.94 2.06.94-2.06 2.06-.94-2.06-.94-.94-2.06-.94 2.06-2.06.94z\"/><path d=\"M17.41 7.96l-1.37-1.37c-.4-.4-.92-.59-1.43-.59-.52 0-1.04.2-1.43.59L10.3 9.45l-7.72 7.72c-.78.78-.78 2.05 0 2.83L4 21.41c.39.39.9.59 1.41.59.51 0 1.02-.2 1.41-.59l7.78-7.78 2.81-2.81c.8-.78.8-2.07 0-2.86zM5.41 20L4 18.59l7.72-7.72 1.47 1.35L5.41 20z\"/>\n",
              "  </svg>\n",
              "      </button>\n",
              "      \n",
              "  <style>\n",
              "    .colab-df-container {\n",
              "      display:flex;\n",
              "      flex-wrap:wrap;\n",
              "      gap: 12px;\n",
              "    }\n",
              "\n",
              "    .colab-df-convert {\n",
              "      background-color: #E8F0FE;\n",
              "      border: none;\n",
              "      border-radius: 50%;\n",
              "      cursor: pointer;\n",
              "      display: none;\n",
              "      fill: #1967D2;\n",
              "      height: 32px;\n",
              "      padding: 0 0 0 0;\n",
              "      width: 32px;\n",
              "    }\n",
              "\n",
              "    .colab-df-convert:hover {\n",
              "      background-color: #E2EBFA;\n",
              "      box-shadow: 0px 1px 2px rgba(60, 64, 67, 0.3), 0px 1px 3px 1px rgba(60, 64, 67, 0.15);\n",
              "      fill: #174EA6;\n",
              "    }\n",
              "\n",
              "    [theme=dark] .colab-df-convert {\n",
              "      background-color: #3B4455;\n",
              "      fill: #D2E3FC;\n",
              "    }\n",
              "\n",
              "    [theme=dark] .colab-df-convert:hover {\n",
              "      background-color: #434B5C;\n",
              "      box-shadow: 0px 1px 3px 1px rgba(0, 0, 0, 0.15);\n",
              "      filter: drop-shadow(0px 1px 2px rgba(0, 0, 0, 0.3));\n",
              "      fill: #FFFFFF;\n",
              "    }\n",
              "  </style>\n",
              "\n",
              "      <script>\n",
              "        const buttonEl =\n",
              "          document.querySelector('#df-13908641-e555-4d4e-84a0-242b871a7efa button.colab-df-convert');\n",
              "        buttonEl.style.display =\n",
              "          google.colab.kernel.accessAllowed ? 'block' : 'none';\n",
              "\n",
              "        async function convertToInteractive(key) {\n",
              "          const element = document.querySelector('#df-13908641-e555-4d4e-84a0-242b871a7efa');\n",
              "          const dataTable =\n",
              "            await google.colab.kernel.invokeFunction('convertToInteractive',\n",
              "                                                     [key], {});\n",
              "          if (!dataTable) return;\n",
              "\n",
              "          const docLinkHtml = 'Like what you see? Visit the ' +\n",
              "            '<a target=\"_blank\" href=https://colab.research.google.com/notebooks/data_table.ipynb>data table notebook</a>'\n",
              "            + ' to learn more about interactive tables.';\n",
              "          element.innerHTML = '';\n",
              "          dataTable['output_type'] = 'display_data';\n",
              "          await google.colab.output.renderOutput(dataTable, element);\n",
              "          const docLink = document.createElement('div');\n",
              "          docLink.innerHTML = docLinkHtml;\n",
              "          element.appendChild(docLink);\n",
              "        }\n",
              "      </script>\n",
              "    </div>\n",
              "  </div>\n",
              "  "
            ]
          },
          "metadata": {},
          "execution_count": 73
        }
      ]
    },
    {
      "cell_type": "code",
      "source": [
        "result['quartile']"
      ],
      "metadata": {
        "colab": {
          "base_uri": "https://localhost:8080/"
        },
        "id": "sYxBKbPFuzLH",
        "outputId": "1c688175-40b8-4a46-b730-959b10a66a98"
      },
      "execution_count": null,
      "outputs": [
        {
          "output_type": "execute_result",
          "data": {
            "text/plain": [
              "0    a1\n",
              "1    a2\n",
              "2    a3\n",
              "3    a4\n",
              "4    a5\n",
              "Name: quartile, dtype: category\n",
              "Categories (5, object): ['a1' < 'a2' < 'a3' < 'a4' < 'a5']"
            ]
          },
          "metadata": {},
          "execution_count": 74
        }
      ]
    },
    {
      "cell_type": "code",
      "source": [
        "#Categorical Methods"
      ],
      "metadata": {
        "id": "Pc_fVMRiu_xX"
      },
      "execution_count": null,
      "outputs": []
    },
    {
      "cell_type": "code",
      "source": [
        "s=pd.Series(['a','b','c','d']*4)\n",
        "cat_s=s.astype('category')\n",
        "cat_s"
      ],
      "metadata": {
        "colab": {
          "base_uri": "https://localhost:8080/"
        },
        "id": "GclZpXZevIg3",
        "outputId": "c48748be-c2b7-458c-c8d2-9ac8310f9882"
      },
      "execution_count": null,
      "outputs": [
        {
          "output_type": "execute_result",
          "data": {
            "text/plain": [
              "0     a\n",
              "1     b\n",
              "2     c\n",
              "3     d\n",
              "4     a\n",
              "5     b\n",
              "6     c\n",
              "7     d\n",
              "8     a\n",
              "9     b\n",
              "10    c\n",
              "11    d\n",
              "12    a\n",
              "13    b\n",
              "14    c\n",
              "15    d\n",
              "dtype: category\n",
              "Categories (4, object): ['a', 'b', 'c', 'd']"
            ]
          },
          "metadata": {},
          "execution_count": 76
        }
      ]
    },
    {
      "cell_type": "code",
      "source": [
        "cat_s.cat.codes\n"
      ],
      "metadata": {
        "colab": {
          "base_uri": "https://localhost:8080/"
        },
        "id": "LDQoAiw9v_pv",
        "outputId": "e957e99c-b314-4bb4-9005-a2309fe7e510"
      },
      "execution_count": null,
      "outputs": [
        {
          "output_type": "execute_result",
          "data": {
            "text/plain": [
              "0     0\n",
              "1     1\n",
              "2     2\n",
              "3     3\n",
              "4     0\n",
              "5     1\n",
              "6     2\n",
              "7     3\n",
              "8     0\n",
              "9     1\n",
              "10    2\n",
              "11    3\n",
              "12    0\n",
              "13    1\n",
              "14    2\n",
              "15    3\n",
              "dtype: int8"
            ]
          },
          "metadata": {},
          "execution_count": 77
        }
      ]
    },
    {
      "cell_type": "code",
      "source": [
        "cat_s.cat.categories"
      ],
      "metadata": {
        "colab": {
          "base_uri": "https://localhost:8080/"
        },
        "id": "0E_z6_9WwvC3",
        "outputId": "37ffffdc-9284-46da-b977-44c5a1c2ba3d"
      },
      "execution_count": null,
      "outputs": [
        {
          "output_type": "execute_result",
          "data": {
            "text/plain": [
              "Index(['a', 'b', 'c', 'd'], dtype='object')"
            ]
          },
          "metadata": {},
          "execution_count": 82
        }
      ]
    },
    {
      "cell_type": "code",
      "source": [
        "actual_categories=['a','b','c','d','e','f']\n",
        "cat_s2=cat_s.cat.set_categories(actual_categories)\n",
        "cat_s2"
      ],
      "metadata": {
        "colab": {
          "base_uri": "https://localhost:8080/"
        },
        "id": "ufb_Lce7xAGH",
        "outputId": "8d9d48eb-75c0-4007-ad7d-6273691777c3"
      },
      "execution_count": null,
      "outputs": [
        {
          "output_type": "execute_result",
          "data": {
            "text/plain": [
              "0     a\n",
              "1     b\n",
              "2     c\n",
              "3     d\n",
              "4     a\n",
              "5     b\n",
              "6     c\n",
              "7     d\n",
              "8     a\n",
              "9     b\n",
              "10    c\n",
              "11    d\n",
              "12    a\n",
              "13    b\n",
              "14    c\n",
              "15    d\n",
              "dtype: category\n",
              "Categories (6, object): ['a', 'b', 'c', 'd', 'e', 'f']"
            ]
          },
          "metadata": {},
          "execution_count": 83
        }
      ]
    },
    {
      "cell_type": "code",
      "source": [
        "cat_s2.value_counts()"
      ],
      "metadata": {
        "colab": {
          "base_uri": "https://localhost:8080/"
        },
        "id": "ybW1rRv8x-DW",
        "outputId": "a2c97adc-e88f-4340-fa15-01e0b0f74040"
      },
      "execution_count": null,
      "outputs": [
        {
          "output_type": "execute_result",
          "data": {
            "text/plain": [
              "a    4\n",
              "b    4\n",
              "c    4\n",
              "d    4\n",
              "e    0\n",
              "f    0\n",
              "dtype: int64"
            ]
          },
          "metadata": {},
          "execution_count": 85
        }
      ]
    },
    {
      "cell_type": "code",
      "source": [
        "cat_s.value_counts()"
      ],
      "metadata": {
        "colab": {
          "base_uri": "https://localhost:8080/"
        },
        "id": "dMB7iGhzyTyW",
        "outputId": "fb4d9a57-8b05-4112-a16b-481f4e954f66"
      },
      "execution_count": null,
      "outputs": [
        {
          "output_type": "execute_result",
          "data": {
            "text/plain": [
              "a    4\n",
              "b    4\n",
              "c    4\n",
              "d    4\n",
              "dtype: int64"
            ]
          },
          "metadata": {},
          "execution_count": 86
        }
      ]
    },
    {
      "cell_type": "code",
      "source": [
        "cat_s3=cat_s[cat_s.isin(['a','b'])]\n",
        "cat_s3"
      ],
      "metadata": {
        "colab": {
          "base_uri": "https://localhost:8080/"
        },
        "id": "752KkSdxybvO",
        "outputId": "9c9cc490-2a35-4de4-aa25-1ae740513294"
      },
      "execution_count": null,
      "outputs": [
        {
          "output_type": "execute_result",
          "data": {
            "text/plain": [
              "0     a\n",
              "1     b\n",
              "4     a\n",
              "5     b\n",
              "8     a\n",
              "9     b\n",
              "12    a\n",
              "13    b\n",
              "dtype: category\n",
              "Categories (4, object): ['a', 'b', 'c', 'd']"
            ]
          },
          "metadata": {},
          "execution_count": 87
        }
      ]
    },
    {
      "cell_type": "code",
      "source": [
        "cat_s3.cat.remove_unused_categories()"
      ],
      "metadata": {
        "colab": {
          "base_uri": "https://localhost:8080/"
        },
        "id": "k0rzSUQmyrpG",
        "outputId": "a457e79e-e597-40fe-81a9-1a1a58dee8a4"
      },
      "execution_count": null,
      "outputs": [
        {
          "output_type": "execute_result",
          "data": {
            "text/plain": [
              "0     a\n",
              "1     b\n",
              "4     a\n",
              "5     b\n",
              "8     a\n",
              "9     b\n",
              "12    a\n",
              "13    b\n",
              "dtype: category\n",
              "Categories (2, object): ['a', 'b']"
            ]
          },
          "metadata": {},
          "execution_count": 88
        }
      ]
    },
    {
      "cell_type": "code",
      "source": [],
      "metadata": {
        "id": "m0IdzzkYy-P-"
      },
      "execution_count": null,
      "outputs": []
    }
  ]
}