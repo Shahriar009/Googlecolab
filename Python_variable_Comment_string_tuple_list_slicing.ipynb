{
  "nbformat": 4,
  "nbformat_minor": 0,
  "metadata": {
    "colab": {
      "provenance": []
    },
    "kernelspec": {
      "name": "python3",
      "display_name": "Python 3"
    },
    "language_info": {
      "name": "python"
    }
  },
  "cells": [
    {
      "cell_type": "code",
      "execution_count": null,
      "metadata": {
        "id": "inne2SMGYUpX"
      },
      "outputs": [],
      "source": []
    },
    {
      "cell_type": "markdown",
      "source": [
        "\n",
        "\n",
        "# Python variable/Comment/string/tuple/list/slicing"
      ],
      "metadata": {
        "id": "jhQcdxcsYWAE"
      }
    },
    {
      "cell_type": "code",
      "source": [
        "a=22\n",
        "print(a)"
      ],
      "metadata": {
        "colab": {
          "base_uri": "https://localhost:8080/"
        },
        "id": "M3k3hDcRYdOE",
        "outputId": "20a969fd-3e1b-48c6-f107-534c4073bea1"
      },
      "execution_count": null,
      "outputs": [
        {
          "output_type": "stream",
          "name": "stdout",
          "text": [
            "22\n"
          ]
        }
      ]
    },
    {
      "cell_type": "code",
      "source": [
        "b=2\n",
        "x=a+b\n",
        "print(x)"
      ],
      "metadata": {
        "colab": {
          "base_uri": "https://localhost:8080/"
        },
        "id": "z8I41_1ZZHQN",
        "outputId": "466df4f4-767a-4ee2-96c2-b87886908c37"
      },
      "execution_count": null,
      "outputs": [
        {
          "output_type": "stream",
          "name": "stdout",
          "text": [
            "24\n"
          ]
        }
      ]
    },
    {
      "cell_type": "code",
      "source": [
        "p=\"Python is a programming language which is very popular for data science \"\n",
        "print(p)"
      ],
      "metadata": {
        "colab": {
          "base_uri": "https://localhost:8080/"
        },
        "id": "XrqjRVjAZO_U",
        "outputId": "8300ad15-1c51-4920-a6e3-5d7a45b6acd0"
      },
      "execution_count": null,
      "outputs": [
        {
          "output_type": "stream",
          "name": "stdout",
          "text": [
            "Python is a programming language which is very popular for data science \n"
          ]
        }
      ]
    },
    {
      "cell_type": "code",
      "source": [
        "#Use comment for understanding easily(single line comment)\n",
        "'''\n",
        "Multiple line comment\n",
        "Also use in oython\n",
        "By thats way\n",
        "'''"
      ],
      "metadata": {
        "id": "ELopKgP1apUd"
      },
      "execution_count": null,
      "outputs": []
    },
    {
      "cell_type": "code",
      "source": [
        "print(\"Hi! this is Shahriar\")"
      ],
      "metadata": {
        "colab": {
          "base_uri": "https://localhost:8080/"
        },
        "id": "olLDM1EcbCis",
        "outputId": "cbd8a53e-21bc-490d-8e8d-923668652ba0"
      },
      "execution_count": null,
      "outputs": [
        {
          "output_type": "stream",
          "name": "stdout",
          "text": [
            "Hi! this is Shahriar\n"
          ]
        }
      ]
    },
    {
      "cell_type": "code",
      "source": [],
      "metadata": {
        "id": "ZC1ICYq7b4oT"
      },
      "execution_count": null,
      "outputs": []
    },
    {
      "cell_type": "code",
      "source": [
        "x=str(457)\n",
        "y=int(8787)\n",
        "z=float(3232)\n",
        "print(x,y,z)"
      ],
      "metadata": {
        "colab": {
          "base_uri": "https://localhost:8080/"
        },
        "id": "flWMmsSzbO67",
        "outputId": "658bbad8-4e21-47a2-ece2-e453510bbe08"
      },
      "execution_count": null,
      "outputs": [
        {
          "output_type": "stream",
          "name": "stdout",
          "text": [
            "457 8787 3232.0\n"
          ]
        }
      ]
    },
    {
      "cell_type": "code",
      "source": [
        "print(type(x))\n",
        "print(type(y))\n",
        "print(type(z))"
      ],
      "metadata": {
        "colab": {
          "base_uri": "https://localhost:8080/"
        },
        "id": "0nrrZPrveD9D",
        "outputId": "120f76b7-aa9b-4ace-d59e-3cb42892b2d0"
      },
      "execution_count": null,
      "outputs": [
        {
          "output_type": "stream",
          "name": "stdout",
          "text": [
            "<class 'str'>\n",
            "<class 'int'>\n",
            "<class 'float'>\n"
          ]
        }
      ]
    },
    {
      "cell_type": "code",
      "source": [
        "a=\"\"\"Life is a quality that distinguishes\n",
        " matter that has biological processes,\n",
        "  such as signaling and self-sustaining processes,\n",
        "  from that which does not,\n",
        "  and is defined by the capacity for growth,\n",
        "   reaction to stimuli,\n",
        "    metabolism, energy transformation,\n",
        "    and reproduction.\"\"\"\n",
        "print(a)\n",
        "b='''Life is a quality that distinguishes\n",
        " matter that has biological processes,\n",
        "  such as signaling and self-sustaining processes,\n",
        "   from that which does not,\n",
        "   and is defined by the capacity for growth,\n",
        "reaction to stimuli, metabolism,\n",
        "energy transformation,\n",
        " and reproduction.'''"
      ],
      "metadata": {
        "colab": {
          "base_uri": "https://localhost:8080/"
        },
        "id": "VrZmuh9pqt5w",
        "outputId": "14cec339-866d-4249-adf7-a2b662acc3fa"
      },
      "execution_count": null,
      "outputs": [
        {
          "output_type": "stream",
          "name": "stdout",
          "text": [
            "Life is a quality that distinguishes\n",
            " matter that has biological processes,\n",
            "  such as signaling and self-sustaining processes, \n",
            "  from that which does not, \n",
            "  and is defined by the capacity for growth,\n",
            "   reaction to stimuli,\n",
            "    metabolism, energy transformation, \n",
            "    and reproduction.\n"
          ]
        }
      ]
    },
    {
      "cell_type": "markdown",
      "source": [
        "# Camel case,Pascal Case,Snake case"
      ],
      "metadata": {
        "id": "Jpm15LxBej-z"
      }
    },
    {
      "cell_type": "code",
      "source": [
        "myFirstName=\"Shahriar\"\n",
        "MyLastName=\"Rahman\"\n",
        "my_nick_name=\"Nobel\"\n",
        "print(myFirstName)\n",
        "print(MyLastName)\n",
        "print(my_nick_name)"
      ],
      "metadata": {
        "colab": {
          "base_uri": "https://localhost:8080/"
        },
        "id": "rDtz12RqelTr",
        "outputId": "f6ccf063-c8e3-4eaf-89da-eafa663515b1"
      },
      "execution_count": null,
      "outputs": [
        {
          "output_type": "stream",
          "name": "stdout",
          "text": [
            "Shahriar\n",
            "Rahman\n",
            "Nobel\n"
          ]
        }
      ]
    },
    {
      "cell_type": "markdown",
      "source": [
        "#Variables"
      ],
      "metadata": {
        "id": "wTuUA63Zg1Lb"
      }
    },
    {
      "cell_type": "code",
      "source": [
        "a,b,c=\"car\",\"Bike\",\"boat\"\n",
        "print(a,b,c)\n",
        "print(a)\n",
        "print(b)\n",
        "print(c)"
      ],
      "metadata": {
        "colab": {
          "base_uri": "https://localhost:8080/"
        },
        "id": "shODvZsdfRxB",
        "outputId": "10c1fb56-a286-42ef-fc1a-ac6373327ea5"
      },
      "execution_count": null,
      "outputs": [
        {
          "output_type": "stream",
          "name": "stdout",
          "text": [
            "car Bike boat\n",
            "car\n",
            "Bike\n",
            "boat\n"
          ]
        }
      ]
    },
    {
      "cell_type": "code",
      "source": [
        "courses=[\"C\",\"c++\",\"Python\",\"JS\"]\n",
        "a,b,c,d=courses\n",
        "print(courses)\n",
        "print(d)\n",
        "print(c)"
      ],
      "metadata": {
        "colab": {
          "base_uri": "https://localhost:8080/"
        },
        "id": "6pgJofPXgWR8",
        "outputId": "4ca321a2-ed52-42a9-997e-5f7dfe5cfeda"
      },
      "execution_count": null,
      "outputs": [
        {
          "output_type": "stream",
          "name": "stdout",
          "text": [
            "['C', 'c++', 'Python', 'JS']\n",
            "JS\n",
            "Python\n"
          ]
        }
      ]
    },
    {
      "cell_type": "code",
      "source": [
        "a=\"shahriar\"\n",
        "b=\"Rahman\"\n",
        "c=\"Nobel\"\n",
        "print(a,b, c)\n",
        "print(a+b+c)"
      ],
      "metadata": {
        "colab": {
          "base_uri": "https://localhost:8080/"
        },
        "id": "dplr4rWPgxZT",
        "outputId": "5c3181b6-67a8-4dea-9db0-d8a396c56208"
      },
      "execution_count": null,
      "outputs": [
        {
          "output_type": "stream",
          "name": "stdout",
          "text": [
            "shahriar Rahman Nobel\n",
            "shahriarRahmanNobel\n"
          ]
        }
      ]
    },
    {
      "cell_type": "code",
      "source": [],
      "metadata": {
        "id": "11x03XiuiHcb"
      },
      "execution_count": null,
      "outputs": []
    },
    {
      "cell_type": "markdown",
      "source": [
        "# Types\n"
      ],
      "metadata": {
        "id": "473cIQv8nl5J"
      }
    },
    {
      "cell_type": "code",
      "source": [
        "a=\"Nobel\"\n",
        "b=22\n",
        "c=33.3\n",
        "d=[\"c\",\"c++\",\"JS\"]\n",
        "e=(\"apple\",\"Banana\")\n",
        "f={\"age\":33, \"company\":\"ACI\"}\n",
        "g={\"A\",\"B\",\"C\"}\n",
        "h=dict(name=\"NNN\",age=77)\n",
        "print(type(a))\n",
        "print(type(b))\n",
        "print(type(c))\n",
        "print(type(d))\n",
        "print(type(e))\n",
        "print(type(f))\n",
        "print(type(g))\n",
        "print(type(h))\n",
        "print(h)\n"
      ],
      "metadata": {
        "colab": {
          "base_uri": "https://localhost:8080/"
        },
        "id": "VoMmwV8FnqRB",
        "outputId": "1bbe705f-0539-40e4-bdb4-2570758abd3a"
      },
      "execution_count": null,
      "outputs": [
        {
          "output_type": "stream",
          "name": "stdout",
          "text": [
            "<class 'str'>\n",
            "<class 'int'>\n",
            "<class 'float'>\n",
            "<class 'list'>\n",
            "<class 'tuple'>\n",
            "<class 'dict'>\n",
            "<class 'set'>\n",
            "<class 'dict'>\n",
            "{'name': 'NNN', 'age': 77}\n"
          ]
        }
      ]
    },
    {
      "cell_type": "code",
      "source": [
        "\n",
        "x=\"Hi, How are you?\"\n",
        "print(x[2])\n",
        "print(x[-4:-1])\n",
        "print(x[4:7])\n",
        "print(x[4:])\n",
        "print(x.upper())\n",
        "print(x.lower())\n",
        "print(x.strip())\n",
        "print(x)"
      ],
      "metadata": {
        "colab": {
          "base_uri": "https://localhost:8080/"
        },
        "id": "ucPoa2AjqC3Y",
        "outputId": "90f4cb11-9da5-4061-a13a-0b6b4402258c"
      },
      "execution_count": null,
      "outputs": [
        {
          "output_type": "stream",
          "name": "stdout",
          "text": [
            ",\n",
            "you\n",
            "How\n",
            "How are you?\n",
            "HI, HOW ARE YOU?\n",
            "hi, how are you?\n",
            "Hi, How are you?\n",
            "Hi, How are you?\n"
          ]
        }
      ]
    },
    {
      "cell_type": "code",
      "source": [
        "x=\"Shahriar\"\n",
        "y=\"Rahman\"\n",
        "z=\"Nobel\"\n",
        "a=x+\" \"+y+\" \"+z\n",
        "print(a)"
      ],
      "metadata": {
        "colab": {
          "base_uri": "https://localhost:8080/"
        },
        "id": "wS1HZvAEIgza",
        "outputId": "9302d4a9-d425-44c6-e675-21a33bd05a0d"
      },
      "execution_count": null,
      "outputs": [
        {
          "output_type": "stream",
          "name": "stdout",
          "text": [
            "Shahriar Rahman Nobel\n"
          ]
        }
      ]
    },
    {
      "cell_type": "code",
      "source": [
        "hours=15\n",
        "minutes=59\n",
        "seconds=53\n",
        "working_time=\"Everyday i stydy {} hours {} minutes and {} seconds.\"\n",
        "print(working_time.format(hours,minutes,seconds))"
      ],
      "metadata": {
        "colab": {
          "base_uri": "https://localhost:8080/"
        },
        "id": "47-VvXWXJLIZ",
        "outputId": "22f715d1-e8df-4505-d25e-7501c55795ea"
      },
      "execution_count": null,
      "outputs": [
        {
          "output_type": "stream",
          "name": "stdout",
          "text": [
            "Everyday i stydy 15 hours 59 minutes and 53 seconds.\n"
          ]
        }
      ]
    },
    {
      "cell_type": "code",
      "source": [
        "m='It\\'s \\\\me \\n kkkk\\r ajma hi that is a \\b huge boss'\n",
        "print(m)\n"
      ],
      "metadata": {
        "colab": {
          "base_uri": "https://localhost:8080/"
        },
        "id": "Cb9T5g7MLeWY",
        "outputId": "9d177b9d-9edf-4c32-9ec9-3693d19b840b"
      },
      "execution_count": null,
      "outputs": [
        {
          "output_type": "stream",
          "name": "stdout",
          "text": [
            "It's \\me \n",
            " kkkk\r ajma hi that is a \b huge boss\n"
          ]
        }
      ]
    },
    {
      "cell_type": "code",
      "source": [],
      "metadata": {
        "id": "DsIew-PYKMsQ"
      },
      "execution_count": null,
      "outputs": []
    },
    {
      "cell_type": "markdown",
      "source": [
        "# List"
      ],
      "metadata": {
        "id": "H0wXpBhUMRqf"
      }
    },
    {
      "cell_type": "code",
      "source": [
        "course=[\"c\",\"c++\",\"JS\",\"python\"]\n",
        "serial=[1,3,5,7]\n",
        "boolean=[True,False,False,True]\n",
        "different_way=list((\"fruits\",\"meat\",\"vegetable\"))\n",
        "'''\n",
        "del serial\n",
        "'''\n",
        "courses[0:1]=[\"C\",\"C++\"]\n",
        "courses.insert(1,\"HTML\")\n",
        "print(courses)\n",
        "print(len(courses))\n",
        "print(courses[1:3])\n",
        "print(boolean[-1:-2])\n",
        "print(courses)\n",
        "'''\n",
        "print(serial)\n",
        "'''\n",
        "print(boolean)\n",
        "print(type(serial))\n",
        "print(different_way)\n"
      ],
      "metadata": {
        "colab": {
          "base_uri": "https://localhost:8080/"
        },
        "id": "LqUgszjCMVgv",
        "outputId": "496af792-8432-468e-80ed-1278042c47ab"
      },
      "execution_count": null,
      "outputs": [
        {
          "output_type": "stream",
          "name": "stdout",
          "text": [
            "['C', 'HTML', 'C++', 'c++', 'python', 'JS']\n",
            "6\n",
            "['HTML', 'C++']\n",
            "[]\n",
            "['C', 'HTML', 'C++', 'c++', 'python', 'JS']\n",
            "[True, False, False, True]\n",
            "<class 'list'>\n",
            "['fruits', 'meat', 'vegetable']\n"
          ]
        }
      ]
    },
    {
      "cell_type": "code",
      "source": [
        "course=[\"c\",\"c++\",\"JS\",\"python\"]\n",
        "course.reverse()\n",
        "print(course)\n",
        "course.sort()\n",
        "\n",
        "print(course)"
      ],
      "metadata": {
        "colab": {
          "base_uri": "https://localhost:8080/"
        },
        "id": "QsuWY9-_WTbc",
        "outputId": "55ab8b01-333f-4240-c137-f736a946b4c6"
      },
      "execution_count": null,
      "outputs": [
        {
          "output_type": "stream",
          "name": "stdout",
          "text": [
            "['python', 'JS', 'c++', 'c']\n",
            "['JS', 'c', 'c++', 'python']\n"
          ]
        }
      ]
    },
    {
      "cell_type": "code",
      "source": [],
      "metadata": {
        "id": "TWvW082PWT_M"
      },
      "execution_count": null,
      "outputs": []
    },
    {
      "cell_type": "code",
      "source": [
        "thislist = [\"apple\", \"banana\", \"cherry\"]\n",
        "del thislist[2]\n",
        "print(thislist)"
      ],
      "metadata": {
        "colab": {
          "base_uri": "https://localhost:8080/"
        },
        "id": "fwmAJ-rON_nH",
        "outputId": "558396b2-1e5c-4485-ebaa-d27e3f2c913e"
      },
      "execution_count": null,
      "outputs": [
        {
          "output_type": "stream",
          "name": "stdout",
          "text": [
            "['apple', 'banana']\n"
          ]
        }
      ]
    },
    {
      "cell_type": "code",
      "source": [
        "fruits = [\"orange\", \"mango\", \"kiwi\", \"pineapple\", \"banana\"]\n",
        "fruits.sort()\n",
        "\n",
        "print(fruits)\n",
        "fruits.sort(reverse=True)\n",
        "print(fruits)"
      ],
      "metadata": {
        "colab": {
          "base_uri": "https://localhost:8080/"
        },
        "id": "YDAhDYVHUIee",
        "outputId": "cda8d404-d08c-456d-deb0-f04f63749ccd"
      },
      "execution_count": null,
      "outputs": [
        {
          "output_type": "stream",
          "name": "stdout",
          "text": [
            "['banana', 'kiwi', 'mango', 'orange', 'pineapple']\n",
            "['pineapple', 'orange', 'mango', 'kiwi', 'banana']\n"
          ]
        }
      ]
    },
    {
      "cell_type": "markdown",
      "source": [
        "# Tuple"
      ],
      "metadata": {
        "id": "bAyiAyjoOBM9"
      }
    },
    {
      "cell_type": "code",
      "source": [
        "departments=(\"CSE\",\"ICE\",\"SWE\",\"EEE\")\n",
        "print(type(departments))\n",
        "print(departments)\n",
        "print(len(departments))"
      ],
      "metadata": {
        "colab": {
          "base_uri": "https://localhost:8080/"
        },
        "id": "bvQpOv4jOEZd",
        "outputId": "163079fb-e764-4d46-bb04-7830388c954a"
      },
      "execution_count": null,
      "outputs": [
        {
          "output_type": "stream",
          "name": "stdout",
          "text": [
            "<class 'tuple'>\n",
            "('CSE', 'ICE', 'SWE', 'EEE')\n",
            "4\n"
          ]
        }
      ]
    }
  ]
}