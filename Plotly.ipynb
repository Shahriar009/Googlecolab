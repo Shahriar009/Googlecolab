{
  "nbformat": 4,
  "nbformat_minor": 0,
  "metadata": {
    "colab": {
      "provenance": []
    },
    "kernelspec": {
      "name": "python3",
      "display_name": "Python 3"
    },
    "language_info": {
      "name": "python"
    }
  },
  "cells": [
    {
      "cell_type": "code",
      "execution_count": null,
      "metadata": {
        "id": "LZKtO74MihYg"
      },
      "outputs": [],
      "source": [
        "import plotly.offline as pyo\n",
        "import plotly.graph_objs as go\n",
        "import numpy as np"
      ]
    },
    {
      "cell_type": "code",
      "source": [
        "from numpy.random import random\n",
        "np.random.seed(42)\n",
        "random_x=np.random.randint(1,101,100)\n",
        "random_y=np.random.randint(1,101,100)\n",
        "\n",
        "data=[\n",
        "    go.Scatter(\n",
        "    x=random_x,\n",
        "    y=random_y,\n",
        "    mode='markers',)\n",
        "    ]\n",
        "\n",
        "pyo.plot(data,filename=\"scatter1.html\")\n",
        "\n"
      ],
      "metadata": {
        "id": "3n0-6bHNu37T",
        "colab": {
          "base_uri": "https://localhost:8080/",
          "height": 36
        },
        "outputId": "88a9bad1-a1ef-4592-94ac-8f09618b5fb6"
      },
      "execution_count": null,
      "outputs": [
        {
          "output_type": "execute_result",
          "data": {
            "text/plain": [
              "'scatter1.html'"
            ],
            "application/vnd.google.colaboratory.intrinsic+json": {
              "type": "string"
            }
          },
          "metadata": {},
          "execution_count": 5
        }
      ]
    },
    {
      "cell_type": "code",
      "source": [
        "import plotly.offline as pyo\n",
        "import plotly.graph_objs as go\n",
        "import numpy as np\n",
        "\n",
        "from numpy.random import random\n",
        "np.random.seed(42)\n",
        "random_x=np.random.randint(1,101,100)\n",
        "random_y=np.random.randint(1,101,100)\n",
        "\n",
        "data=[\n",
        "    go.Scatter(\n",
        "    x=random_x,\n",
        "    y=random_y,\n",
        "    mode='markers',)\n",
        "    ]\n",
        "pyo.plot(data,filename=\"scatter1.html\")\n",
        "\n",
        "\n"
      ],
      "metadata": {
        "id": "nVHsWayBu3-J",
        "colab": {
          "base_uri": "https://localhost:8080/",
          "height": 36
        },
        "outputId": "da13dc97-f94b-4295-c009-73ead01e6f54"
      },
      "execution_count": null,
      "outputs": [
        {
          "output_type": "execute_result",
          "data": {
            "text/plain": [
              "'scatter1.html'"
            ],
            "application/vnd.google.colaboratory.intrinsic+json": {
              "type": "string"
            }
          },
          "metadata": {},
          "execution_count": 6
        }
      ]
    },
    {
      "cell_type": "code",
      "source": [],
      "metadata": {
        "id": "e27AKkC-u4Ay"
      },
      "execution_count": null,
      "outputs": []
    }
  ]
}