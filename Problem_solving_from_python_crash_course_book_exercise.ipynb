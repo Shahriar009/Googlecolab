{
  "nbformat": 4,
  "nbformat_minor": 0,
  "metadata": {
    "colab": {
      "provenance": []
    },
    "kernelspec": {
      "name": "python3",
      "display_name": "Python 3"
    },
    "language_info": {
      "name": "python"
    }
  },
  "cells": [
    {
      "cell_type": "code",
      "execution_count": null,
      "metadata": {
        "colab": {
          "base_uri": "https://localhost:8080/"
        },
        "id": "fCFk5V5rldZG",
        "outputId": "74fe280f-5dae-4caa-aee2-9c38eb470dd7"
      },
      "outputs": [
        {
          "output_type": "stream",
          "name": "stdout",
          "text": [
            "Hi that is simple message for the purpose of a exercise chapter 2\n",
            "Hi that is simple message for the purpose of a exercise chapter 2\n",
            "Hi my self shahriar \n"
          ]
        }
      ],
      "source": [
        "# Problem solving from python crash_course book exercise\n",
        "'''\n",
        "-1. Simple Message: Store a message in a variable, and then print that\n",
        "message\n",
        "'''\n",
        "message=\"Hi that is simple message for the purpose of a exercise chapter 2\"\n",
        "print(message)\n",
        "'''\n",
        "-2. Simple Messages: Store a message in a variable, and print that message.\n",
        "Then change the value of your variable to a new message, and print the new\n",
        "message.\n",
        "'''\n",
        "message=\"Hi that is simple message for the purpose of a exercise chapter 2\"\n",
        "print(message)\n",
        "message=\"Hi my self shahriar \"\n",
        "print(message)"
      ]
    },
    {
      "cell_type": "markdown",
      "source": [
        "# Problem solving from python crash_course book exercise\n"
      ],
      "metadata": {
        "id": "t5F27XK0z1xg"
      }
    },
    {
      "cell_type": "code",
      "source": [
        "'''\n",
        "-3. Personal Message: Store a person’s name in a variable, and print a mes\u0002sage to that person. Your message should be simple, such as, “Hello Eric,\n",
        "would you like to learn some Python today?”\n",
        "'''\n",
        "p_name=\"Shahriar\"\n",
        "print(\"Hello \" +p_name+ \" welcome \")"
      ],
      "metadata": {
        "colab": {
          "base_uri": "https://localhost:8080/"
        },
        "id": "bW6jE9xNms4q",
        "outputId": "5915862d-8c19-469f-ceed-721eecdabe25"
      },
      "execution_count": null,
      "outputs": [
        {
          "output_type": "stream",
          "name": "stdout",
          "text": [
            "Hello Shahriar welcome \n"
          ]
        }
      ]
    },
    {
      "cell_type": "code",
      "source": [
        "'''\n",
        "Name Cases: Store a person’s name in a variable, and then print that per\u0002son’s name in lowercase, uppercase, and titlecase\n",
        "\n",
        "'''\n",
        "p_name=\"Shahriar Rahman\"\n",
        "print(p_name.lower())\n",
        "print(p_name.upper())\n",
        "print(p_name.title())"
      ],
      "metadata": {
        "colab": {
          "base_uri": "https://localhost:8080/"
        },
        "id": "S4syrmRPnasp",
        "outputId": "dea66b58-807c-40db-b18c-69cdfa890ead"
      },
      "execution_count": null,
      "outputs": [
        {
          "output_type": "stream",
          "name": "stdout",
          "text": [
            "shahriar rahman\n",
            "SHAHRIAR RAHMAN\n",
            "Shahriar Rahman\n"
          ]
        }
      ]
    },
    {
      "cell_type": "code",
      "source": [
        "f_language=\"python\"\n",
        "f_language.rstrip()"
      ],
      "metadata": {
        "colab": {
          "base_uri": "https://localhost:8080/",
          "height": 35
        },
        "id": "ys7Y-VbQpszJ",
        "outputId": "2585cc80-9e84-4508-d6a5-2821b0652c09"
      },
      "execution_count": null,
      "outputs": [
        {
          "output_type": "execute_result",
          "data": {
            "text/plain": [
              "'python'"
            ],
            "application/vnd.google.colaboratory.intrinsic+json": {
              "type": "string"
            }
          },
          "metadata": {},
          "execution_count": 14
        }
      ]
    },
    {
      "cell_type": "code",
      "source": [
        "'''\n",
        "Famous Quote: Find a quote from a famous person you admire. Print the\n",
        "quote and the name of its author. Your output should look something like the\n",
        "following, including the quotation marks:\n",
        "'''\n",
        "print(\"Albert Einstein once said, “A person who never made a\")\n",
        "print(\"mistake never tried anything new.”\")"
      ],
      "metadata": {
        "colab": {
          "base_uri": "https://localhost:8080/"
        },
        "id": "w5qcYYJjqfFh",
        "outputId": "97d0ac00-087b-40ae-f0dc-232d59bc3810"
      },
      "execution_count": null,
      "outputs": [
        {
          "output_type": "stream",
          "name": "stdout",
          "text": [
            "Albert Einstein once said, “A person who never made a\n",
            "mistake never tried anything new.”\n"
          ]
        }
      ]
    },
    {
      "cell_type": "code",
      "source": [
        "'''\n",
        "Famous Quote 2: Repeat Exercise 2-5, but this time store the famous per\u0002son’s name in a variable called famous_person. Then compose your message\n",
        "and store it in a new variable called message. Print your message\n",
        "'''\n",
        "famous_person=\"Albert Einstein\"\n",
        "print(famous_person+\"once said, “A person who never made a\")\n",
        "print(\"mistake never tried anything new.”\")"
      ],
      "metadata": {
        "colab": {
          "base_uri": "https://localhost:8080/"
        },
        "id": "BfoKcmGcrGfv",
        "outputId": "8265f0d6-8439-47b9-f364-4a90fe60d126"
      },
      "execution_count": null,
      "outputs": [
        {
          "output_type": "stream",
          "name": "stdout",
          "text": [
            "Albert Einsteinonce said, “A person who never made a\n",
            "mistake never tried anything new.”\n"
          ]
        }
      ]
    },
    {
      "cell_type": "code",
      "source": [
        "'''\n",
        "Stripping Names: Store a person’s name, and include some whitespace\n",
        "characters at the beginning and end of the name. Make sure you use each\n",
        "character combination, \"\\t\" and \"\\n\", at least once.\n",
        "Print the name once, so the whitespace around the name is displayed.\n",
        "Then print the name using each of the three stripping functions, lstrip(),\n",
        "rstrip(), and strip().\n",
        "\n",
        "'''\n",
        "p_name=\"\\tShahriar Rahman\\n\"\n",
        "\n",
        "print(p_name)\n",
        "\n",
        "print(\"\\n using lstrip():\")\n",
        "\n",
        "print(p_name.lstrip())\n",
        "\n",
        "print(\"\\n using rstrip():\")\n",
        "\n",
        "print(p_name.rstrip())\n",
        "\n",
        "print(\"\\n using strip():\")\n",
        "\n",
        "print(p_name.strip())\n",
        "\n",
        "\n",
        "\n"
      ],
      "metadata": {
        "colab": {
          "base_uri": "https://localhost:8080/"
        },
        "id": "CAyF2fAksCJQ",
        "outputId": "945588e6-a609-412d-bc27-955d467c292b"
      },
      "execution_count": null,
      "outputs": [
        {
          "output_type": "stream",
          "name": "stdout",
          "text": [
            "\tShahriar Rahman\n",
            "\n",
            "\n",
            " using lstrip():\n",
            "Shahriar Rahman\n",
            "\n",
            "\n",
            " using rstrip():\n",
            "\tShahriar Rahman\n",
            "\n",
            " using strip():\n",
            "Shahriar Rahman\n"
          ]
        }
      ]
    },
    {
      "cell_type": "code",
      "source": [
        "'''\n",
        "Stripping Names: Store a person’s name, and include some whitespace\n",
        "characters at the beginning and end of the name. Make sure you use each\n",
        "character combination, \"\\t\" and \"\\n\", at least once.\n",
        "Print the name once, so the whitespace around the name is displayed.\n",
        "Then print the name using each of the three stripping functions, lstrip(),\n",
        "rstrip(), and strip().\n",
        "\n",
        "'''\n",
        "print(5+3)\n",
        "print(10-2)\n",
        "print(4*2)\n",
        "print(16/2)"
      ],
      "metadata": {
        "colab": {
          "base_uri": "https://localhost:8080/"
        },
        "id": "09h1fg1IuOxx",
        "outputId": "9dd870d5-fa5b-4327-c326-1aeb7fc4bbfb"
      },
      "execution_count": null,
      "outputs": [
        {
          "output_type": "stream",
          "name": "stdout",
          "text": [
            "8\n",
            "8\n",
            "8\n",
            "8.0\n"
          ]
        }
      ]
    },
    {
      "cell_type": "code",
      "source": [
        "# Date-14-1-2023\n",
        "#Shahriar Rahman\n",
        "'''\n",
        "Favorite Number: Store your favorite number in a variable. Then, using\n",
        "that variable, create a message that reveals your favorite number. Print that\n",
        "messag\n",
        "'''\n",
        "f_number=9001\n",
        "message='The secret number is',f_number\n",
        "print(message)"
      ],
      "metadata": {
        "colab": {
          "base_uri": "https://localhost:8080/"
        },
        "id": "FlQtU-S4uy1Y",
        "outputId": "9040a879-314d-4745-ccf7-a92644cccfd5"
      },
      "execution_count": null,
      "outputs": [
        {
          "output_type": "stream",
          "name": "stdout",
          "text": [
            "('The secret number is', 9001)\n"
          ]
        }
      ]
    },
    {
      "cell_type": "code",
      "source": [
        "'''\n",
        "3-1. Names: Store the names of a few of your friends in a list called names. Print\n",
        "each person’s name by accessing each element in the list, one at a tim\n",
        "'''\n",
        "friends_names=[\"Nobel\",\"Jitu\",\"Rayhan\",\"Abir\"]\n",
        "print(friends_names)"
      ],
      "metadata": {
        "colab": {
          "base_uri": "https://localhost:8080/"
        },
        "id": "ts8YE8nuwX7A",
        "outputId": "1b043724-14fa-46d7-b46a-c93058d865fd"
      },
      "execution_count": null,
      "outputs": [
        {
          "output_type": "stream",
          "name": "stdout",
          "text": [
            "['Nobel', 'Jitu', 'Rayhan', 'Abir']\n"
          ]
        }
      ]
    },
    {
      "cell_type": "code",
      "source": [
        "'''\n",
        "3-2. Greetings: Start with the list you used in Exercise 3-1, but instead of just\n",
        "printing each person’s name, print a message to them. The text of each mes\u0002sage should be the same, but each message should be personalized with the\n",
        "person’s name.\n",
        "'''\n",
        "friends_names=[\"Nobel\",\"Jitu\",\"Rayhan\",\"Abir\"]\n",
        "message=friends_names[1].title()+\" very good programmer\"\n",
        "print(message)\n",
        "message=\"Machine learning expart \"+friends_names[3].title()\n",
        "print(message)\n"
      ],
      "metadata": {
        "colab": {
          "base_uri": "https://localhost:8080/"
        },
        "id": "KxjPvdw6xCn3",
        "outputId": "c5333c5d-c02f-4265-a039-e2abf4e3dd55"
      },
      "execution_count": null,
      "outputs": [
        {
          "output_type": "stream",
          "name": "stdout",
          "text": [
            "Jitu very good programmer\n",
            "Machine learning expart Abir\n"
          ]
        }
      ]
    },
    {
      "cell_type": "code",
      "source": [
        "'''\n",
        "Your Own List: Think of your favorite mode of transportation, such as a\n",
        "motorcycle or a car, and make a list that stores several examples. Use your list\n",
        "to print a series of statements about these items, such as “I would like to own a\n",
        "Honda motorcycle.”\n",
        "'''\n",
        "f_transp=[\"Car\",\"Bike\",\"Bus\",\"Metro\",\"Train\"]\n",
        "dream=\"I will buy a \"+f_transp[1]+\" after 1 years\"\n",
        "print(dream)\n",
        "comfort=\"I would like to travel by \"+f_transp[4]\n",
        "print(comfort)"
      ],
      "metadata": {
        "colab": {
          "base_uri": "https://localhost:8080/"
        },
        "id": "it1l2tRJyHx5",
        "outputId": "dfce5c1a-534d-4917-8099-7f0952cb5a3d"
      },
      "execution_count": null,
      "outputs": [
        {
          "output_type": "stream",
          "name": "stdout",
          "text": [
            "I will buy a Bike after 1 years\n",
            "I would like to travel by Train\n"
          ]
        }
      ]
    },
    {
      "cell_type": "code",
      "source": [
        "'''\n",
        "3-4. Guest List: If you could invite anyone, living or deceased, to dinner, who\n",
        "would you invite? Make a list that includes at least three people you’d like to\n",
        "invite to dinner. Then use your list to print a message to each person, inviting\n",
        "them to dinner.'''\n",
        "guests_name=[\"Siyam\",\"Lokman\",\"Shanto\",\"Hammem\"]\n",
        "\n",
        "name=guests_name[0].title()\n",
        "\n",
        "print(\"Hello dear friend \" +name+\" i invited you to join with us in dinner\")\n",
        "\n",
        "name=guests_name[1].title()\n",
        "\n",
        "print(\"Hello dear friend \" +name+\" i invited you to join with us in dinner\")\n",
        "\n",
        "name=guests_name[2].title()\n",
        "\n",
        "print(\"Hello dear friend \" +name+\" i invited you to join with us in dinner\")\n",
        "\n",
        "\n",
        "name=guests_name[3].title()\n",
        "\n",
        "print(\"Hello dear friend \" +name+\" i invited you to join with us in dinner\")"
      ],
      "metadata": {
        "colab": {
          "base_uri": "https://localhost:8080/"
        },
        "id": "aDlVYAS10Nx_",
        "outputId": "c440728b-a259-4c61-fee2-98d16928c954"
      },
      "execution_count": null,
      "outputs": [
        {
          "output_type": "stream",
          "name": "stdout",
          "text": [
            "Hello dear friend Siyam i invited you to join with us in dinner\n",
            "Hello dear friend Lokman i invited you to join with us in dinner\n",
            "Hello dear friend Shanto i invited you to join with us in dinner\n",
            "Hello dear friend Hammem i invited you to join with us in dinner\n"
          ]
        }
      ]
    },
    {
      "cell_type": "code",
      "source": [
        "'''\n",
        "3-5. Changing Guest List: You just heard that one of your guests can’t make the\n",
        "dinner, so you need to send out a new set of invitations. You’ll have to think of\n",
        "someone else to invite.\n",
        "•\t Start with your program from Exercise 3-4. Add a print statement at the\n",
        "end of your program stating the name of the guest who can’t make it.\n",
        "•\t Modify your list, replacing the name of the guest who can’t make it with\n",
        "the name of the new person you are inviting.\n",
        "•\t Print a second set of invitation messages, one for each person who is still\n",
        "in your list\n",
        "'''\n",
        "guests_name=[\"Siyam\",\"Lokman\",\"Shanto\",\"Hammem\"]\n",
        "print(guests_name)\n",
        "#Siyam can’t attend the dinner\n",
        "#now inviting Abir\n",
        "guests_name[0]='Abir'\n",
        "print(guests_name)\n",
        "\n",
        "name=guests_name[0].title()\n",
        "print(\"Hello dear friend \" +name+\" i invited you to join with us in dinner\")\n",
        "name=guests_name[1].title()\n",
        "print(\"Hello dear friend \" +name+\" i invited you to join with us in dinner\")\n",
        "name=guests_name[2].title()\n",
        "print(\"Hello dear friend \" +name+\" i invited you to join with us in dinner\")\n",
        "name=guests_name[3].title()\n",
        "print(\"Hello dear friend \" +name+\" i invited you to join with us\")"
      ],
      "metadata": {
        "colab": {
          "base_uri": "https://localhost:8080/"
        },
        "id": "cxkPWHXbtZjW",
        "outputId": "c05d1715-7459-4903-d63c-7d8531c724d2"
      },
      "execution_count": null,
      "outputs": [
        {
          "output_type": "stream",
          "name": "stdout",
          "text": [
            "['Siyam', 'Lokman', 'Shanto', 'Hammem']\n",
            "['Abir', 'Lokman', 'Shanto', 'Hammem']\n",
            "Hello dear friend Abir i invited you to join with us in dinner\n",
            "Hello dear friend Lokman i invited you to join with us in dinner\n",
            "Hello dear friend Shanto i invited you to join with us in dinner\n",
            "Hello dear friend Hammem i invited you to join with us\n"
          ]
        }
      ]
    },
    {
      "cell_type": "code",
      "source": [
        "'''\n",
        "3-6. More Guests: You just found a bigger dinner table, so now more space is\n",
        "available. Think of three more guests to invite to dinner.\n",
        "•\t Start with your program from Exercise 3-4 or Exercise 3-5. Add a print\n",
        "statement to the end of your program informing people that you found a\n",
        "bigger dinner table.\n",
        "•\t Use insert() to add one new guest to the beginning of your list.\n",
        "•\t Use insert() to add one new guest to the middle of your list.\n",
        "•\t Use append() to add one new guest to the end of your list.\n",
        "•\t Print a new set of invitation messages, one for each person in your list.\n",
        "\n",
        "'''\n",
        "guests_name.insert(0,'Nobel')\n",
        "print(guests_name)\n",
        "guests_name.insert(2,'Rayhan')\n",
        "print(guests_name)\n",
        "guests_name.append('Jitu')\n",
        "print(guests_name)"
      ],
      "metadata": {
        "colab": {
          "base_uri": "https://localhost:8080/"
        },
        "id": "bqAtnsx8wk1f",
        "outputId": "a91c123c-1674-4f24-d08d-516ba412d6d7"
      },
      "execution_count": null,
      "outputs": [
        {
          "output_type": "stream",
          "name": "stdout",
          "text": [
            "['Nobel', 'Nobel', 'Nobel', 'Rayhan', 'Abir', 'Rayhan', 'Lokman', 'Shanto', 'Hammem', 'Jitu', 'Jitu']\n",
            "['Nobel', 'Nobel', 'Rayhan', 'Nobel', 'Rayhan', 'Abir', 'Rayhan', 'Lokman', 'Shanto', 'Hammem', 'Jitu', 'Jitu']\n",
            "['Nobel', 'Nobel', 'Rayhan', 'Nobel', 'Rayhan', 'Abir', 'Rayhan', 'Lokman', 'Shanto', 'Hammem', 'Jitu', 'Jitu', 'Jitu']\n"
          ]
        }
      ]
    }
  ]
}