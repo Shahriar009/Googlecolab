{
  "nbformat": 4,
  "nbformat_minor": 0,
  "metadata": {
    "colab": {
      "provenance": []
    },
    "kernelspec": {
      "name": "python3",
      "display_name": "Python 3"
    },
    "language_info": {
      "name": "python"
    }
  },
  "cells": [
    {
      "cell_type": "code",
      "source": [
        "courses=(\"C++\",\"JS\",\"HTML\",\"JAVA\",\"Python\")\n",
        "\n",
        "print(type(courses))\n"
      ],
      "metadata": {
        "colab": {
          "base_uri": "https://localhost:8080/"
        },
        "id": "ZUzrcsxlkLlw",
        "outputId": "66e7f073-26c7-4759-a425-c07068196e5b"
      },
      "execution_count": null,
      "outputs": [
        {
          "output_type": "stream",
          "name": "stdout",
          "text": [
            "<class 'tuple'>\n"
          ]
        }
      ]
    },
    {
      "cell_type": "code",
      "source": [
        "courses=[\"C++\",\"JS\",\"HTML\",\"JAVA\",\"Python\"]\n",
        "\n",
        "print(type(courses))"
      ],
      "metadata": {
        "colab": {
          "base_uri": "https://localhost:8080/"
        },
        "id": "gx5gSfl6k1zC",
        "outputId": "9191841e-b8aa-414b-87d1-c03f634d6c7e"
      },
      "execution_count": null,
      "outputs": [
        {
          "output_type": "stream",
          "name": "stdout",
          "text": [
            "<class 'list'>\n"
          ]
        }
      ]
    },
    {
      "cell_type": "code",
      "source": [
        "courses={\"C++\",\"JS\",\"HTML\",\"JAVA\",\"Python\"}\n",
        "\n",
        "print(type(courses))"
      ],
      "metadata": {
        "colab": {
          "base_uri": "https://localhost:8080/"
        },
        "id": "z0WXrEbjk9bo",
        "outputId": "5bf957a9-74ea-49d6-f601-cc38431be53d"
      },
      "execution_count": null,
      "outputs": [
        {
          "output_type": "stream",
          "name": "stdout",
          "text": [
            "<class 'set'>\n"
          ]
        }
      ]
    },
    {
      "cell_type": "code",
      "source": [
        "courses=[\"C++\",\"JS\",\"HTML\",\"JAVA\",\"Python\"]\n",
        "\n",
        "print(type(courses))"
      ],
      "metadata": {
        "id": "9OnMO3ollSGh"
      },
      "execution_count": null,
      "outputs": []
    },
    {
      "cell_type": "code",
      "source": [
        "courses=[\"C++\",\"JS\",\"HTML\",True,\"Python\",3,6,False]\n",
        "print(courses)\n",
        "print(len(courses))\n",
        "print(type(courses))\n",
        "fruits_list=((\"Apple\",\"Banan\",\"Cheri\",\"Mangoue\"))\n",
        "print(fruits_list)"
      ],
      "metadata": {
        "colab": {
          "base_uri": "https://localhost:8080/"
        },
        "id": "e9eafQL1nSkg",
        "outputId": "6310eda1-bdcc-4dfa-c4ca-f7e00b97e911"
      },
      "execution_count": null,
      "outputs": [
        {
          "output_type": "stream",
          "name": "stdout",
          "text": [
            "['C++', 'JS', 'HTML', True, 'Python', 3, 6, False]\n",
            "8\n",
            "<class 'list'>\n",
            "('Apple', 'Banan', 'Cheri', 'Mangoue')\n"
          ]
        }
      ]
    },
    {
      "cell_type": "code",
      "source": [
        "list=[\"C\",\"C++\",\"JS\",\"HTML\",\"python\",\"Java\"]\n",
        "print(list[-4:-2])\n",
        "print(list[5])\n",
        "print(list[2:-1])\n",
        "list.insert(2,\"R\")\n",
        "print(list)\n"
      ],
      "metadata": {
        "colab": {
          "base_uri": "https://localhost:8080/"
        },
        "id": "NyqmCdtLp5aS",
        "outputId": "56b90164-6f6a-45d5-d886-185b5c830d85"
      },
      "execution_count": null,
      "outputs": [
        {
          "output_type": "stream",
          "name": "stdout",
          "text": [
            "['JS', 'HTML']\n",
            "Java\n",
            "['JS', 'HTML', 'python']\n",
            "['C', 'C++', 'R', 'JS', 'HTML', 'python', 'Java']\n"
          ]
        }
      ]
    },
    {
      "cell_type": "code",
      "source": [
        "fruits=[\"Apple\",\"Banana\",\"Cheri\",\"Mangoue\"]\n",
        "print(fruits[3:])\n",
        "if \"Banana\" in fruits:\n",
        "  print(\"Yes ,'Banan' is in the fruits list \")"
      ],
      "metadata": {
        "colab": {
          "base_uri": "https://localhost:8080/"
        },
        "id": "GNRGGrAyrQdD",
        "outputId": "49257f0a-389e-476f-a397-b3ed3db450e5"
      },
      "execution_count": null,
      "outputs": [
        {
          "output_type": "stream",
          "name": "stdout",
          "text": [
            "['Mangoue']\n",
            "Yes ,'Banan' is in the fruits list \n"
          ]
        }
      ]
    },
    {
      "cell_type": "code",
      "source": [
        "list1=[\"Apple\",\"Banan\",\"Cheri\",\"Mangoue\"]\n",
        "list2=[\"apple\",\"banan\",\"cheri\",\"mangoue\"]\n",
        "list2.extend(list1)\n",
        "list1.extend(list2)\n",
        "print(list1)\n",
        "print(list2)"
      ],
      "metadata": {
        "colab": {
          "base_uri": "https://localhost:8080/"
        },
        "id": "htI2DxQ74Yuj",
        "outputId": "4922a29e-f509-4c38-f7b5-cb3293638176"
      },
      "execution_count": null,
      "outputs": [
        {
          "output_type": "stream",
          "name": "stdout",
          "text": [
            "['Apple', 'Banan', 'Cheri', 'Mangoue', 'apple', 'banan', 'cheri', 'mangoue', 'Apple', 'Banan', 'Cheri', 'Mangoue']\n",
            "['apple', 'banan', 'cheri', 'mangoue', 'Apple', 'Banan', 'Cheri', 'Mangoue']\n"
          ]
        }
      ]
    },
    {
      "cell_type": "code",
      "source": [],
      "metadata": {
        "id": "ZM4rk4kq48Lb"
      },
      "execution_count": null,
      "outputs": []
    }
  ]
}